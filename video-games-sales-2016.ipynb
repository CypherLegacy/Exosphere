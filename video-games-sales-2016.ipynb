{
 "cells": [
  {
   "cell_type": "markdown",
   "id": "fbf9aa02",
   "metadata": {
    "slideshow": {
     "slide_type": "slide"
    }
   },
   "source": [
    "# Creating a Deep Neural Network for Logistic Regression\n",
    "\n",
    "\n",
    "\n",
    "\n",
    "#### Created by: Steven J. Ahlberg\n",
    "#### IBM Advanced Data Science Capstone\n",
    "#### September 19, 2021"
   ]
  },
  {
   "cell_type": "markdown",
   "id": "6b20158b",
   "metadata": {
    "slideshow": {
     "slide_type": "slide"
    }
   },
   "source": [
    "# Video Game Sales as of December, 2016\n",
    "## I. Initial Exploratory Data Analysis\n",
    "### a. Identify quality issues (e.g. missing values, wrong measurements, etc.)"
   ]
  },
  {
   "cell_type": "code",
   "execution_count": 1,
   "id": "8ea3cf3e",
   "metadata": {
    "slideshow": {
     "slide_type": "fragment"
    }
   },
   "outputs": [
    {
     "data": {
      "text/html": [
       "<div>\n",
       "<style scoped>\n",
       "    .dataframe tbody tr th:only-of-type {\n",
       "        vertical-align: middle;\n",
       "    }\n",
       "\n",
       "    .dataframe tbody tr th {\n",
       "        vertical-align: top;\n",
       "    }\n",
       "\n",
       "    .dataframe thead th {\n",
       "        text-align: right;\n",
       "    }\n",
       "</style>\n",
       "<table border=\"1\" class=\"dataframe\">\n",
       "  <thead>\n",
       "    <tr style=\"text-align: right;\">\n",
       "      <th></th>\n",
       "      <th>Name</th>\n",
       "      <th>Platform</th>\n",
       "      <th>Year_of_Release</th>\n",
       "      <th>Genre</th>\n",
       "      <th>Publisher</th>\n",
       "      <th>NA_Sales</th>\n",
       "      <th>EU_Sales</th>\n",
       "      <th>JP_Sales</th>\n",
       "      <th>Other_Sales</th>\n",
       "      <th>Global_Sales</th>\n",
       "      <th>Critic_Score</th>\n",
       "      <th>Critic_Count</th>\n",
       "      <th>User_Score</th>\n",
       "      <th>User_Count</th>\n",
       "      <th>Developer</th>\n",
       "      <th>Rating</th>\n",
       "    </tr>\n",
       "  </thead>\n",
       "  <tbody>\n",
       "    <tr>\n",
       "      <th>0</th>\n",
       "      <td>Wii Sports</td>\n",
       "      <td>Wii</td>\n",
       "      <td>2006.0</td>\n",
       "      <td>Sports</td>\n",
       "      <td>Nintendo</td>\n",
       "      <td>41.36</td>\n",
       "      <td>28.96</td>\n",
       "      <td>3.77</td>\n",
       "      <td>8.45</td>\n",
       "      <td>82.53</td>\n",
       "      <td>76.0</td>\n",
       "      <td>51.0</td>\n",
       "      <td>8.0</td>\n",
       "      <td>322.0</td>\n",
       "      <td>Nintendo</td>\n",
       "      <td>E</td>\n",
       "    </tr>\n",
       "    <tr>\n",
       "      <th>1</th>\n",
       "      <td>Super Mario Bros.</td>\n",
       "      <td>NES</td>\n",
       "      <td>1985.0</td>\n",
       "      <td>Platform</td>\n",
       "      <td>Nintendo</td>\n",
       "      <td>29.08</td>\n",
       "      <td>3.58</td>\n",
       "      <td>6.81</td>\n",
       "      <td>0.77</td>\n",
       "      <td>40.24</td>\n",
       "      <td>NaN</td>\n",
       "      <td>NaN</td>\n",
       "      <td>NaN</td>\n",
       "      <td>NaN</td>\n",
       "      <td>NaN</td>\n",
       "      <td>NaN</td>\n",
       "    </tr>\n",
       "    <tr>\n",
       "      <th>2</th>\n",
       "      <td>Mario Kart Wii</td>\n",
       "      <td>Wii</td>\n",
       "      <td>2008.0</td>\n",
       "      <td>Racing</td>\n",
       "      <td>Nintendo</td>\n",
       "      <td>15.68</td>\n",
       "      <td>12.76</td>\n",
       "      <td>3.79</td>\n",
       "      <td>3.29</td>\n",
       "      <td>35.52</td>\n",
       "      <td>82.0</td>\n",
       "      <td>73.0</td>\n",
       "      <td>8.3</td>\n",
       "      <td>709.0</td>\n",
       "      <td>Nintendo</td>\n",
       "      <td>E</td>\n",
       "    </tr>\n",
       "    <tr>\n",
       "      <th>3</th>\n",
       "      <td>Wii Sports Resort</td>\n",
       "      <td>Wii</td>\n",
       "      <td>2009.0</td>\n",
       "      <td>Sports</td>\n",
       "      <td>Nintendo</td>\n",
       "      <td>15.61</td>\n",
       "      <td>10.93</td>\n",
       "      <td>3.28</td>\n",
       "      <td>2.95</td>\n",
       "      <td>32.77</td>\n",
       "      <td>80.0</td>\n",
       "      <td>73.0</td>\n",
       "      <td>8.0</td>\n",
       "      <td>192.0</td>\n",
       "      <td>Nintendo</td>\n",
       "      <td>E</td>\n",
       "    </tr>\n",
       "    <tr>\n",
       "      <th>4</th>\n",
       "      <td>Pokemon Red/Pokemon Blue</td>\n",
       "      <td>GB</td>\n",
       "      <td>1996.0</td>\n",
       "      <td>Role-Playing</td>\n",
       "      <td>Nintendo</td>\n",
       "      <td>11.27</td>\n",
       "      <td>8.89</td>\n",
       "      <td>10.22</td>\n",
       "      <td>1.00</td>\n",
       "      <td>31.37</td>\n",
       "      <td>NaN</td>\n",
       "      <td>NaN</td>\n",
       "      <td>NaN</td>\n",
       "      <td>NaN</td>\n",
       "      <td>NaN</td>\n",
       "      <td>NaN</td>\n",
       "    </tr>\n",
       "  </tbody>\n",
       "</table>\n",
       "</div>"
      ],
      "text/plain": [
       "                       Name Platform  Year_of_Release         Genre Publisher  \\\n",
       "0                Wii Sports      Wii           2006.0        Sports  Nintendo   \n",
       "1         Super Mario Bros.      NES           1985.0      Platform  Nintendo   \n",
       "2            Mario Kart Wii      Wii           2008.0        Racing  Nintendo   \n",
       "3         Wii Sports Resort      Wii           2009.0        Sports  Nintendo   \n",
       "4  Pokemon Red/Pokemon Blue       GB           1996.0  Role-Playing  Nintendo   \n",
       "\n",
       "   NA_Sales  EU_Sales  JP_Sales  Other_Sales  Global_Sales  Critic_Score  \\\n",
       "0     41.36     28.96      3.77         8.45         82.53          76.0   \n",
       "1     29.08      3.58      6.81         0.77         40.24           NaN   \n",
       "2     15.68     12.76      3.79         3.29         35.52          82.0   \n",
       "3     15.61     10.93      3.28         2.95         32.77          80.0   \n",
       "4     11.27      8.89     10.22         1.00         31.37           NaN   \n",
       "\n",
       "   Critic_Count  User_Score  User_Count Developer Rating  \n",
       "0          51.0         8.0       322.0  Nintendo      E  \n",
       "1           NaN         NaN         NaN       NaN    NaN  \n",
       "2          73.0         8.3       709.0  Nintendo      E  \n",
       "3          73.0         8.0       192.0  Nintendo      E  \n",
       "4           NaN         NaN         NaN       NaN    NaN  "
      ]
     },
     "execution_count": 1,
     "metadata": {},
     "output_type": "execute_result"
    }
   ],
   "source": [
    "# Import some standard libraries and the dataset\n",
    "import pandas as pd\n",
    "import numpy as np\n",
    "\n",
    "df1 = pd.read_csv(r'C:\\Users\\sjahl\\source\\repos\\ibm-AdvDataScience-capstone\\video_games_sales_2016.csv')\n",
    "df1.head()"
   ]
  },
  {
   "cell_type": "code",
   "execution_count": 2,
   "id": "7b7889fb",
   "metadata": {
    "slideshow": {
     "slide_type": "slide"
    }
   },
   "outputs": [
    {
     "name": "stdout",
     "output_type": "stream",
     "text": [
      "df1: 16719 x 16\n",
      "<class 'pandas.core.frame.DataFrame'>\n",
      "RangeIndex: 16719 entries, 0 to 16718\n",
      "Data columns (total 16 columns):\n",
      " #   Column           Non-Null Count  Dtype  \n",
      "---  ------           --------------  -----  \n",
      " 0   Name             16717 non-null  object \n",
      " 1   Platform         16719 non-null  object \n",
      " 2   Year_of_Release  16450 non-null  float64\n",
      " 3   Genre            16717 non-null  object \n",
      " 4   Publisher        16665 non-null  object \n",
      " 5   NA_Sales         16719 non-null  float64\n",
      " 6   EU_Sales         16719 non-null  float64\n",
      " 7   JP_Sales         16719 non-null  float64\n",
      " 8   Other_Sales      16719 non-null  float64\n",
      " 9   Global_Sales     16719 non-null  float64\n",
      " 10  Critic_Score     8137 non-null   float64\n",
      " 11  Critic_Count     8137 non-null   float64\n",
      " 12  User_Score       7590 non-null   float64\n",
      " 13  User_Count       7590 non-null   float64\n",
      " 14  Developer        10096 non-null  object \n",
      " 15  Rating           9950 non-null   object \n",
      "dtypes: float64(10), object(6)\n",
      "memory usage: 2.0+ MB\n"
     ]
    }
   ],
   "source": [
    "# Check the dataframe information\n",
    "print('df1: {} x {}'.format(df1.shape[0], df1.shape[1]))\n",
    "df1.info()"
   ]
  },
  {
   "cell_type": "code",
   "execution_count": 3,
   "id": "3c868fee",
   "metadata": {
    "slideshow": {
     "slide_type": "slide"
    }
   },
   "outputs": [
    {
     "name": "stdout",
     "output_type": "stream",
     "text": [
      "Missing Value Summary\n",
      "-----------------------\n",
      "Name                  2\n",
      "Platform              0\n",
      "Year_of_Release     269\n",
      "Genre                 2\n",
      "Publisher            54\n",
      "NA_Sales              0\n",
      "EU_Sales              0\n",
      "JP_Sales              0\n",
      "Other_Sales           0\n",
      "Global_Sales          0\n",
      "Critic_Score       8582\n",
      "Critic_Count       8582\n",
      "User_Score         9129\n",
      "User_Count         9129\n",
      "Developer          6623\n",
      "Rating             6769\n",
      "dtype: int64\n"
     ]
    }
   ],
   "source": [
    "# Missing values summary\n",
    "print('Missing Value Summary\\n{}'.format('-'*23))\n",
    "print(df1.isna().sum(axis=0))"
   ]
  },
  {
   "cell_type": "markdown",
   "id": "386109dc",
   "metadata": {
    "slideshow": {
     "slide_type": "slide"
    }
   },
   "source": [
    "#### Clean the Data\n",
    "\n",
    "Because of the large amount of missing data (roughly half of the number of records are incomplete), imputation would not be an effective method for filling in the gaps and would throw off our accuracy for predictability. So, I am going to drop the incomplete records and still be able to work with a good sizable dataset that is complete."
   ]
  },
  {
   "cell_type": "code",
   "execution_count": 4,
   "id": "671e4ecf",
   "metadata": {
    "slideshow": {
     "slide_type": "fragment"
    }
   },
   "outputs": [
    {
     "name": "stdout",
     "output_type": "stream",
     "text": [
      "Missing Value Summary\n",
      "-----------------------\n",
      "Name               0\n",
      "Platform           0\n",
      "Year_of_Release    0\n",
      "Genre              0\n",
      "Publisher          0\n",
      "NA_Sales           0\n",
      "EU_Sales           0\n",
      "JP_Sales           0\n",
      "Other_Sales        0\n",
      "Global_Sales       0\n",
      "Critic_Score       0\n",
      "Critic_Count       0\n",
      "User_Score         0\n",
      "User_Count         0\n",
      "Developer          0\n",
      "Rating             0\n",
      "dtype: int64\n"
     ]
    }
   ],
   "source": [
    "# Create the workable subset of data (df2)\n",
    "df2 = pd.DataFrame(df1.dropna())\n",
    "df2 = df2.reset_index(drop=True)\n",
    "print('Missing Value Summary\\n{}'.format('-'*23))\n",
    "print(df2.isna().sum(axis=0))"
   ]
  },
  {
   "cell_type": "code",
   "execution_count": 5,
   "id": "15708590",
   "metadata": {
    "slideshow": {
     "slide_type": "slide"
    }
   },
   "outputs": [
    {
     "name": "stdout",
     "output_type": "stream",
     "text": [
      "df2: 6825 x 16\n",
      "<class 'pandas.core.frame.DataFrame'>\n",
      "RangeIndex: 6825 entries, 0 to 6824\n",
      "Data columns (total 16 columns):\n",
      " #   Column           Non-Null Count  Dtype  \n",
      "---  ------           --------------  -----  \n",
      " 0   Name             6825 non-null   object \n",
      " 1   Platform         6825 non-null   object \n",
      " 2   Year_of_Release  6825 non-null   float64\n",
      " 3   Genre            6825 non-null   object \n",
      " 4   Publisher        6825 non-null   object \n",
      " 5   NA_Sales         6825 non-null   float64\n",
      " 6   EU_Sales         6825 non-null   float64\n",
      " 7   JP_Sales         6825 non-null   float64\n",
      " 8   Other_Sales      6825 non-null   float64\n",
      " 9   Global_Sales     6825 non-null   float64\n",
      " 10  Critic_Score     6825 non-null   float64\n",
      " 11  Critic_Count     6825 non-null   float64\n",
      " 12  User_Score       6825 non-null   float64\n",
      " 13  User_Count       6825 non-null   float64\n",
      " 14  Developer        6825 non-null   object \n",
      " 15  Rating           6825 non-null   object \n",
      "dtypes: float64(10), object(6)\n",
      "memory usage: 853.2+ KB\n"
     ]
    }
   ],
   "source": [
    "# Check the sub-dataframe information\n",
    "print('df2: {} x {}'.format(df2.shape[0], df2.shape[1]))\n",
    "df2.info()"
   ]
  },
  {
   "cell_type": "code",
   "execution_count": 6,
   "id": "9c24b0c1",
   "metadata": {
    "slideshow": {
     "slide_type": "slide"
    }
   },
   "outputs": [
    {
     "data": {
      "text/html": [
       "<div>\n",
       "<style scoped>\n",
       "    .dataframe tbody tr th:only-of-type {\n",
       "        vertical-align: middle;\n",
       "    }\n",
       "\n",
       "    .dataframe tbody tr th {\n",
       "        vertical-align: top;\n",
       "    }\n",
       "\n",
       "    .dataframe thead th {\n",
       "        text-align: right;\n",
       "    }\n",
       "</style>\n",
       "<table border=\"1\" class=\"dataframe\">\n",
       "  <thead>\n",
       "    <tr style=\"text-align: right;\">\n",
       "      <th></th>\n",
       "      <th>Name</th>\n",
       "      <th>Platform</th>\n",
       "      <th>Year_of_Release</th>\n",
       "      <th>Genre</th>\n",
       "      <th>Publisher</th>\n",
       "      <th>NA_Sales</th>\n",
       "      <th>EU_Sales</th>\n",
       "      <th>JP_Sales</th>\n",
       "      <th>Other_Sales</th>\n",
       "      <th>Global_Sales</th>\n",
       "      <th>Critic_Score</th>\n",
       "      <th>Critic_Count</th>\n",
       "      <th>User_Score</th>\n",
       "      <th>User_Count</th>\n",
       "      <th>Developer</th>\n",
       "      <th>Rating</th>\n",
       "    </tr>\n",
       "  </thead>\n",
       "  <tbody>\n",
       "    <tr>\n",
       "      <th>0</th>\n",
       "      <td>Wii Sports</td>\n",
       "      <td>Wii</td>\n",
       "      <td>2006.0</td>\n",
       "      <td>Sports</td>\n",
       "      <td>Nintendo</td>\n",
       "      <td>41.36</td>\n",
       "      <td>28.96</td>\n",
       "      <td>3.77</td>\n",
       "      <td>8.45</td>\n",
       "      <td>82.53</td>\n",
       "      <td>76.0</td>\n",
       "      <td>51.0</td>\n",
       "      <td>8.0</td>\n",
       "      <td>322.0</td>\n",
       "      <td>Nintendo</td>\n",
       "      <td>E</td>\n",
       "    </tr>\n",
       "    <tr>\n",
       "      <th>1</th>\n",
       "      <td>Mario Kart Wii</td>\n",
       "      <td>Wii</td>\n",
       "      <td>2008.0</td>\n",
       "      <td>Racing</td>\n",
       "      <td>Nintendo</td>\n",
       "      <td>15.68</td>\n",
       "      <td>12.76</td>\n",
       "      <td>3.79</td>\n",
       "      <td>3.29</td>\n",
       "      <td>35.52</td>\n",
       "      <td>82.0</td>\n",
       "      <td>73.0</td>\n",
       "      <td>8.3</td>\n",
       "      <td>709.0</td>\n",
       "      <td>Nintendo</td>\n",
       "      <td>E</td>\n",
       "    </tr>\n",
       "    <tr>\n",
       "      <th>2</th>\n",
       "      <td>Wii Sports Resort</td>\n",
       "      <td>Wii</td>\n",
       "      <td>2009.0</td>\n",
       "      <td>Sports</td>\n",
       "      <td>Nintendo</td>\n",
       "      <td>15.61</td>\n",
       "      <td>10.93</td>\n",
       "      <td>3.28</td>\n",
       "      <td>2.95</td>\n",
       "      <td>32.77</td>\n",
       "      <td>80.0</td>\n",
       "      <td>73.0</td>\n",
       "      <td>8.0</td>\n",
       "      <td>192.0</td>\n",
       "      <td>Nintendo</td>\n",
       "      <td>E</td>\n",
       "    </tr>\n",
       "    <tr>\n",
       "      <th>3</th>\n",
       "      <td>New Super Mario Bros.</td>\n",
       "      <td>DS</td>\n",
       "      <td>2006.0</td>\n",
       "      <td>Platform</td>\n",
       "      <td>Nintendo</td>\n",
       "      <td>11.28</td>\n",
       "      <td>9.14</td>\n",
       "      <td>6.50</td>\n",
       "      <td>2.88</td>\n",
       "      <td>29.80</td>\n",
       "      <td>89.0</td>\n",
       "      <td>65.0</td>\n",
       "      <td>8.5</td>\n",
       "      <td>431.0</td>\n",
       "      <td>Nintendo</td>\n",
       "      <td>E</td>\n",
       "    </tr>\n",
       "    <tr>\n",
       "      <th>4</th>\n",
       "      <td>Wii Play</td>\n",
       "      <td>Wii</td>\n",
       "      <td>2006.0</td>\n",
       "      <td>Misc</td>\n",
       "      <td>Nintendo</td>\n",
       "      <td>13.96</td>\n",
       "      <td>9.18</td>\n",
       "      <td>2.93</td>\n",
       "      <td>2.84</td>\n",
       "      <td>28.92</td>\n",
       "      <td>58.0</td>\n",
       "      <td>41.0</td>\n",
       "      <td>6.6</td>\n",
       "      <td>129.0</td>\n",
       "      <td>Nintendo</td>\n",
       "      <td>E</td>\n",
       "    </tr>\n",
       "  </tbody>\n",
       "</table>\n",
       "</div>"
      ],
      "text/plain": [
       "                    Name Platform  Year_of_Release     Genre Publisher  \\\n",
       "0             Wii Sports      Wii           2006.0    Sports  Nintendo   \n",
       "1         Mario Kart Wii      Wii           2008.0    Racing  Nintendo   \n",
       "2      Wii Sports Resort      Wii           2009.0    Sports  Nintendo   \n",
       "3  New Super Mario Bros.       DS           2006.0  Platform  Nintendo   \n",
       "4               Wii Play      Wii           2006.0      Misc  Nintendo   \n",
       "\n",
       "   NA_Sales  EU_Sales  JP_Sales  Other_Sales  Global_Sales  Critic_Score  \\\n",
       "0     41.36     28.96      3.77         8.45         82.53          76.0   \n",
       "1     15.68     12.76      3.79         3.29         35.52          82.0   \n",
       "2     15.61     10.93      3.28         2.95         32.77          80.0   \n",
       "3     11.28      9.14      6.50         2.88         29.80          89.0   \n",
       "4     13.96      9.18      2.93         2.84         28.92          58.0   \n",
       "\n",
       "   Critic_Count  User_Score  User_Count Developer Rating  \n",
       "0          51.0         8.0       322.0  Nintendo      E  \n",
       "1          73.0         8.3       709.0  Nintendo      E  \n",
       "2          73.0         8.0       192.0  Nintendo      E  \n",
       "3          65.0         8.5       431.0  Nintendo      E  \n",
       "4          41.0         6.6       129.0  Nintendo      E  "
      ]
     },
     "execution_count": 6,
     "metadata": {},
     "output_type": "execute_result"
    }
   ],
   "source": [
    "# Take a look at what the dataset looks like for reference\n",
    "df2.head()"
   ]
  },
  {
   "cell_type": "markdown",
   "id": "003a0fdf",
   "metadata": {
    "slideshow": {
     "slide_type": "slide"
    }
   },
   "source": [
    "### b. Assess feature quality – how relevant is a certain measurement (correlation matrix)\n",
    "Now, in order to perform a correlation matrix, and do other calculations with the data, I will use scikit-learn's preprocessing OrdinalEncoder function with fit_transform to transform categorical features to numeric values, and change column headings back over to labels for easy reference.\n",
    "\n",
    "I will use seaborn and matplotlib.pyplot for visualizing the data for correlation and statistics."
   ]
  },
  {
   "cell_type": "code",
   "execution_count": 7,
   "id": "6f21403d",
   "metadata": {
    "slideshow": {
     "slide_type": "fragment"
    }
   },
   "outputs": [
    {
     "data": {
      "text/html": [
       "<div>\n",
       "<style scoped>\n",
       "    .dataframe tbody tr th:only-of-type {\n",
       "        vertical-align: middle;\n",
       "    }\n",
       "\n",
       "    .dataframe tbody tr th {\n",
       "        vertical-align: top;\n",
       "    }\n",
       "\n",
       "    .dataframe thead th {\n",
       "        text-align: right;\n",
       "    }\n",
       "</style>\n",
       "<table border=\"1\" class=\"dataframe\">\n",
       "  <thead>\n",
       "    <tr style=\"text-align: right;\">\n",
       "      <th></th>\n",
       "      <th>Name</th>\n",
       "      <th>Platform</th>\n",
       "      <th>Genre</th>\n",
       "      <th>Publisher</th>\n",
       "      <th>Developer</th>\n",
       "      <th>Rating</th>\n",
       "    </tr>\n",
       "  </thead>\n",
       "  <tbody>\n",
       "    <tr>\n",
       "      <th>0</th>\n",
       "      <td>4215.0</td>\n",
       "      <td>12.0</td>\n",
       "      <td>10.0</td>\n",
       "      <td>160.0</td>\n",
       "      <td>771.0</td>\n",
       "      <td>1.0</td>\n",
       "    </tr>\n",
       "    <tr>\n",
       "      <th>1</th>\n",
       "      <td>2087.0</td>\n",
       "      <td>12.0</td>\n",
       "      <td>6.0</td>\n",
       "      <td>160.0</td>\n",
       "      <td>771.0</td>\n",
       "      <td>1.0</td>\n",
       "    </tr>\n",
       "    <tr>\n",
       "      <th>2</th>\n",
       "      <td>4217.0</td>\n",
       "      <td>12.0</td>\n",
       "      <td>10.0</td>\n",
       "      <td>160.0</td>\n",
       "      <td>771.0</td>\n",
       "      <td>1.0</td>\n",
       "    </tr>\n",
       "    <tr>\n",
       "      <th>3</th>\n",
       "      <td>2567.0</td>\n",
       "      <td>2.0</td>\n",
       "      <td>4.0</td>\n",
       "      <td>160.0</td>\n",
       "      <td>771.0</td>\n",
       "      <td>1.0</td>\n",
       "    </tr>\n",
       "    <tr>\n",
       "      <th>4</th>\n",
       "      <td>4213.0</td>\n",
       "      <td>12.0</td>\n",
       "      <td>3.0</td>\n",
       "      <td>160.0</td>\n",
       "      <td>771.0</td>\n",
       "      <td>1.0</td>\n",
       "    </tr>\n",
       "  </tbody>\n",
       "</table>\n",
       "</div>"
      ],
      "text/plain": [
       "     Name  Platform  Genre  Publisher  Developer  Rating\n",
       "0  4215.0      12.0   10.0      160.0      771.0     1.0\n",
       "1  2087.0      12.0    6.0      160.0      771.0     1.0\n",
       "2  4217.0      12.0   10.0      160.0      771.0     1.0\n",
       "3  2567.0       2.0    4.0      160.0      771.0     1.0\n",
       "4  4213.0      12.0    3.0      160.0      771.0     1.0"
      ]
     },
     "execution_count": 7,
     "metadata": {},
     "output_type": "execute_result"
    }
   ],
   "source": [
    "from sklearn.preprocessing import OrdinalEncoder\n",
    "enc = OrdinalEncoder()\n",
    "\n",
    "df3 = pd.DataFrame(enc.fit_transform(df2[['Name','Platform','Genre','Publisher','Developer','Rating']]), \\\n",
    "                 columns=df2[['Name','Platform','Genre','Publisher','Developer','Rating']].columns)\n",
    "df3.head()"
   ]
  },
  {
   "cell_type": "code",
   "execution_count": 8,
   "id": "e62b5f5f",
   "metadata": {
    "slideshow": {
     "slide_type": "slide"
    }
   },
   "outputs": [
    {
     "data": {
      "text/html": [
       "<div>\n",
       "<style scoped>\n",
       "    .dataframe tbody tr th:only-of-type {\n",
       "        vertical-align: middle;\n",
       "    }\n",
       "\n",
       "    .dataframe tbody tr th {\n",
       "        vertical-align: top;\n",
       "    }\n",
       "\n",
       "    .dataframe thead th {\n",
       "        text-align: right;\n",
       "    }\n",
       "</style>\n",
       "<table border=\"1\" class=\"dataframe\">\n",
       "  <thead>\n",
       "    <tr style=\"text-align: right;\">\n",
       "      <th></th>\n",
       "      <th>Name</th>\n",
       "      <th>Platform</th>\n",
       "      <th>Genre</th>\n",
       "      <th>Publisher</th>\n",
       "      <th>Developer</th>\n",
       "      <th>Rating</th>\n",
       "      <th>Year_of_Release</th>\n",
       "      <th>NA_Sales</th>\n",
       "      <th>EU_Sales</th>\n",
       "      <th>JP_Sales</th>\n",
       "      <th>Other_Sales</th>\n",
       "      <th>Global_Sales</th>\n",
       "      <th>Critic_Score</th>\n",
       "      <th>Critic_Count</th>\n",
       "      <th>User_Score</th>\n",
       "      <th>User_Count</th>\n",
       "    </tr>\n",
       "  </thead>\n",
       "  <tbody>\n",
       "    <tr>\n",
       "      <th>0</th>\n",
       "      <td>4215.0</td>\n",
       "      <td>12.0</td>\n",
       "      <td>10.0</td>\n",
       "      <td>160.0</td>\n",
       "      <td>771.0</td>\n",
       "      <td>1.0</td>\n",
       "      <td>2006.0</td>\n",
       "      <td>41.36</td>\n",
       "      <td>28.96</td>\n",
       "      <td>3.77</td>\n",
       "      <td>8.45</td>\n",
       "      <td>82.53</td>\n",
       "      <td>76.0</td>\n",
       "      <td>51.0</td>\n",
       "      <td>8.0</td>\n",
       "      <td>322.0</td>\n",
       "    </tr>\n",
       "    <tr>\n",
       "      <th>1</th>\n",
       "      <td>2087.0</td>\n",
       "      <td>12.0</td>\n",
       "      <td>6.0</td>\n",
       "      <td>160.0</td>\n",
       "      <td>771.0</td>\n",
       "      <td>1.0</td>\n",
       "      <td>2008.0</td>\n",
       "      <td>15.68</td>\n",
       "      <td>12.76</td>\n",
       "      <td>3.79</td>\n",
       "      <td>3.29</td>\n",
       "      <td>35.52</td>\n",
       "      <td>82.0</td>\n",
       "      <td>73.0</td>\n",
       "      <td>8.3</td>\n",
       "      <td>709.0</td>\n",
       "    </tr>\n",
       "    <tr>\n",
       "      <th>2</th>\n",
       "      <td>4217.0</td>\n",
       "      <td>12.0</td>\n",
       "      <td>10.0</td>\n",
       "      <td>160.0</td>\n",
       "      <td>771.0</td>\n",
       "      <td>1.0</td>\n",
       "      <td>2009.0</td>\n",
       "      <td>15.61</td>\n",
       "      <td>10.93</td>\n",
       "      <td>3.28</td>\n",
       "      <td>2.95</td>\n",
       "      <td>32.77</td>\n",
       "      <td>80.0</td>\n",
       "      <td>73.0</td>\n",
       "      <td>8.0</td>\n",
       "      <td>192.0</td>\n",
       "    </tr>\n",
       "    <tr>\n",
       "      <th>3</th>\n",
       "      <td>2567.0</td>\n",
       "      <td>2.0</td>\n",
       "      <td>4.0</td>\n",
       "      <td>160.0</td>\n",
       "      <td>771.0</td>\n",
       "      <td>1.0</td>\n",
       "      <td>2006.0</td>\n",
       "      <td>11.28</td>\n",
       "      <td>9.14</td>\n",
       "      <td>6.50</td>\n",
       "      <td>2.88</td>\n",
       "      <td>29.80</td>\n",
       "      <td>89.0</td>\n",
       "      <td>65.0</td>\n",
       "      <td>8.5</td>\n",
       "      <td>431.0</td>\n",
       "    </tr>\n",
       "    <tr>\n",
       "      <th>4</th>\n",
       "      <td>4213.0</td>\n",
       "      <td>12.0</td>\n",
       "      <td>3.0</td>\n",
       "      <td>160.0</td>\n",
       "      <td>771.0</td>\n",
       "      <td>1.0</td>\n",
       "      <td>2006.0</td>\n",
       "      <td>13.96</td>\n",
       "      <td>9.18</td>\n",
       "      <td>2.93</td>\n",
       "      <td>2.84</td>\n",
       "      <td>28.92</td>\n",
       "      <td>58.0</td>\n",
       "      <td>41.0</td>\n",
       "      <td>6.6</td>\n",
       "      <td>129.0</td>\n",
       "    </tr>\n",
       "  </tbody>\n",
       "</table>\n",
       "</div>"
      ],
      "text/plain": [
       "     Name  Platform  Genre  Publisher  Developer  Rating  Year_of_Release  \\\n",
       "0  4215.0      12.0   10.0      160.0      771.0     1.0           2006.0   \n",
       "1  2087.0      12.0    6.0      160.0      771.0     1.0           2008.0   \n",
       "2  4217.0      12.0   10.0      160.0      771.0     1.0           2009.0   \n",
       "3  2567.0       2.0    4.0      160.0      771.0     1.0           2006.0   \n",
       "4  4213.0      12.0    3.0      160.0      771.0     1.0           2006.0   \n",
       "\n",
       "   NA_Sales  EU_Sales  JP_Sales  Other_Sales  Global_Sales  Critic_Score  \\\n",
       "0     41.36     28.96      3.77         8.45         82.53          76.0   \n",
       "1     15.68     12.76      3.79         3.29         35.52          82.0   \n",
       "2     15.61     10.93      3.28         2.95         32.77          80.0   \n",
       "3     11.28      9.14      6.50         2.88         29.80          89.0   \n",
       "4     13.96      9.18      2.93         2.84         28.92          58.0   \n",
       "\n",
       "   Critic_Count  User_Score  User_Count  \n",
       "0          51.0         8.0       322.0  \n",
       "1          73.0         8.3       709.0  \n",
       "2          73.0         8.0       192.0  \n",
       "3          65.0         8.5       431.0  \n",
       "4          41.0         6.6       129.0  "
      ]
     },
     "execution_count": 8,
     "metadata": {},
     "output_type": "execute_result"
    }
   ],
   "source": [
    "df4 = df2.drop(['Name','Platform','Genre','Publisher','Developer','Rating'], axis=1)\n",
    "df = pd.concat([df3, df4], axis=1)\n",
    "df.head()"
   ]
  },
  {
   "cell_type": "code",
   "execution_count": 9,
   "id": "1456b0b0",
   "metadata": {
    "slideshow": {
     "slide_type": "slide"
    }
   },
   "outputs": [
    {
     "name": "stdout",
     "output_type": "stream",
     "text": [
      "<class 'pandas.core.frame.DataFrame'>\n",
      "RangeIndex: 6825 entries, 0 to 6824\n",
      "Data columns (total 16 columns):\n",
      " #   Column           Non-Null Count  Dtype  \n",
      "---  ------           --------------  -----  \n",
      " 0   Name             6825 non-null   float64\n",
      " 1   Platform         6825 non-null   float64\n",
      " 2   Genre            6825 non-null   float64\n",
      " 3   Publisher        6825 non-null   float64\n",
      " 4   Developer        6825 non-null   float64\n",
      " 5   Rating           6825 non-null   float64\n",
      " 6   Year_of_Release  6825 non-null   float64\n",
      " 7   NA_Sales         6825 non-null   float64\n",
      " 8   EU_Sales         6825 non-null   float64\n",
      " 9   JP_Sales         6825 non-null   float64\n",
      " 10  Other_Sales      6825 non-null   float64\n",
      " 11  Global_Sales     6825 non-null   float64\n",
      " 12  Critic_Score     6825 non-null   float64\n",
      " 13  Critic_Count     6825 non-null   float64\n",
      " 14  User_Score       6825 non-null   float64\n",
      " 15  User_Count       6825 non-null   float64\n",
      "dtypes: float64(16)\n",
      "memory usage: 853.2 KB\n"
     ]
    }
   ],
   "source": [
    "df.info()"
   ]
  },
  {
   "cell_type": "code",
   "execution_count": 10,
   "id": "77cff9ef",
   "metadata": {
    "slideshow": {
     "slide_type": "slide"
    }
   },
   "outputs": [],
   "source": [
    "import seaborn as sns\n",
    "from IPython.display import Image\n",
    "import matplotlib.pyplot as plt\n",
    "\n",
    "plt.style.use('seaborn')\n",
    "%matplotlib inline\n",
    "\n",
    "sns.set(color_codes=True)"
   ]
  },
  {
   "cell_type": "code",
   "execution_count": 11,
   "id": "06f32c8d",
   "metadata": {
    "slideshow": {
     "slide_type": "slide"
    }
   },
   "outputs": [
    {
     "data": {
      "text/plain": [
       "Text(0.5, 1.0, 'Correlation Heatmap')"
      ]
     },
     "execution_count": 11,
     "metadata": {},
     "output_type": "execute_result"
    },
    {
     "data": {
      "image/png": "[encoded data removed]",
      "text/plain": [
       "<Figure size 1152x432 with 2 Axes>"
      ]
     },
     "metadata": {},
     "output_type": "display_data"
    }
   ],
   "source": [
    "plt.figure(figsize=(16, 6))\n",
    "heatmap = sns.heatmap(df.corr(), vmin=-1, vmax=1, annot=True, cmap='BrBG')\n",
    "heatmap.set_title('Correlation Heatmap', fontdict={'fontsize':14}, pad=12)"
   ]
  },
  {
   "cell_type": "markdown",
   "id": "e378acff",
   "metadata": {
    "slideshow": {
     "slide_type": "slide"
    }
   },
   "source": [
    "### c. Get an idea on the value distribution of your data using statistical measures and visualizations\n",
    "From the correlation matrix, regional sales data correlates strongly to one another except in the Japanese market. That could be information that would require exploratory analysis as to why.\n",
    "\n",
    "As correlation analysis pertains to categorical features: critic score, critic count, and user count have the strongest correlation. However, it is noted that although the word 'strongest', as it used in comparison with other measures, still holds a weak correlation between sales data (ignoring the Japanese Market).\n",
    "\n",
    "Furthermore, user score shows a very weak correlation to sales which is remarkable, in my opinion. That was against my hypothesis. There are also weak correlations between everything else, including developer and rating which surprises me.\n",
    "\n",
    "So, for now, I will be focused on comparison data and statistics using regional sales, and categorical features: critic score, critic count, and user count. I will use relational scatter plots to how variables in a dataset relate to each other and how those relationships depend on other variables. I will also use a boxen plot chart to show statics."
   ]
  },
  {
   "cell_type": "code",
   "execution_count": 12,
   "id": "91951385",
   "metadata": {
    "slideshow": {
     "slide_type": "slide"
    }
   },
   "outputs": [
    {
     "data": {
      "text/html": [
       "<div>\n",
       "<style scoped>\n",
       "    .dataframe tbody tr th:only-of-type {\n",
       "        vertical-align: middle;\n",
       "    }\n",
       "\n",
       "    .dataframe tbody tr th {\n",
       "        vertical-align: top;\n",
       "    }\n",
       "\n",
       "    .dataframe thead th {\n",
       "        text-align: right;\n",
       "    }\n",
       "</style>\n",
       "<table border=\"1\" class=\"dataframe\">\n",
       "  <thead>\n",
       "    <tr style=\"text-align: right;\">\n",
       "      <th></th>\n",
       "      <th>Name</th>\n",
       "      <th>Platform</th>\n",
       "      <th>Genre</th>\n",
       "      <th>Publisher</th>\n",
       "      <th>Developer</th>\n",
       "      <th>Rating</th>\n",
       "      <th>Year_of_Release</th>\n",
       "      <th>NA_Sales</th>\n",
       "      <th>EU_Sales</th>\n",
       "      <th>JP_Sales</th>\n",
       "      <th>Other_Sales</th>\n",
       "      <th>Global_Sales</th>\n",
       "      <th>Critic_Score</th>\n",
       "      <th>Critic_Count</th>\n",
       "      <th>User_Score</th>\n",
       "      <th>User_Count</th>\n",
       "    </tr>\n",
       "  </thead>\n",
       "  <tbody>\n",
       "    <tr>\n",
       "      <th>0</th>\n",
       "      <td>Wii Sports</td>\n",
       "      <td>Wii</td>\n",
       "      <td>Sports</td>\n",
       "      <td>Nintendo</td>\n",
       "      <td>Nintendo</td>\n",
       "      <td>E</td>\n",
       "      <td>2006.0</td>\n",
       "      <td>41.36</td>\n",
       "      <td>28.96</td>\n",
       "      <td>3.77</td>\n",
       "      <td>8.45</td>\n",
       "      <td>82.53</td>\n",
       "      <td>76.0</td>\n",
       "      <td>51.0</td>\n",
       "      <td>8.0</td>\n",
       "      <td>322.0</td>\n",
       "    </tr>\n",
       "    <tr>\n",
       "      <th>1</th>\n",
       "      <td>Mario Kart Wii</td>\n",
       "      <td>Wii</td>\n",
       "      <td>Racing</td>\n",
       "      <td>Nintendo</td>\n",
       "      <td>Nintendo</td>\n",
       "      <td>E</td>\n",
       "      <td>2008.0</td>\n",
       "      <td>15.68</td>\n",
       "      <td>12.76</td>\n",
       "      <td>3.79</td>\n",
       "      <td>3.29</td>\n",
       "      <td>35.52</td>\n",
       "      <td>82.0</td>\n",
       "      <td>73.0</td>\n",
       "      <td>8.3</td>\n",
       "      <td>709.0</td>\n",
       "    </tr>\n",
       "    <tr>\n",
       "      <th>2</th>\n",
       "      <td>Wii Sports Resort</td>\n",
       "      <td>Wii</td>\n",
       "      <td>Sports</td>\n",
       "      <td>Nintendo</td>\n",
       "      <td>Nintendo</td>\n",
       "      <td>E</td>\n",
       "      <td>2009.0</td>\n",
       "      <td>15.61</td>\n",
       "      <td>10.93</td>\n",
       "      <td>3.28</td>\n",
       "      <td>2.95</td>\n",
       "      <td>32.77</td>\n",
       "      <td>80.0</td>\n",
       "      <td>73.0</td>\n",
       "      <td>8.0</td>\n",
       "      <td>192.0</td>\n",
       "    </tr>\n",
       "    <tr>\n",
       "      <th>3</th>\n",
       "      <td>New Super Mario Bros.</td>\n",
       "      <td>DS</td>\n",
       "      <td>Platform</td>\n",
       "      <td>Nintendo</td>\n",
       "      <td>Nintendo</td>\n",
       "      <td>E</td>\n",
       "      <td>2006.0</td>\n",
       "      <td>11.28</td>\n",
       "      <td>9.14</td>\n",
       "      <td>6.50</td>\n",
       "      <td>2.88</td>\n",
       "      <td>29.80</td>\n",
       "      <td>89.0</td>\n",
       "      <td>65.0</td>\n",
       "      <td>8.5</td>\n",
       "      <td>431.0</td>\n",
       "    </tr>\n",
       "    <tr>\n",
       "      <th>4</th>\n",
       "      <td>Wii Play</td>\n",
       "      <td>Wii</td>\n",
       "      <td>Misc</td>\n",
       "      <td>Nintendo</td>\n",
       "      <td>Nintendo</td>\n",
       "      <td>E</td>\n",
       "      <td>2006.0</td>\n",
       "      <td>13.96</td>\n",
       "      <td>9.18</td>\n",
       "      <td>2.93</td>\n",
       "      <td>2.84</td>\n",
       "      <td>28.92</td>\n",
       "      <td>58.0</td>\n",
       "      <td>41.0</td>\n",
       "      <td>6.6</td>\n",
       "      <td>129.0</td>\n",
       "    </tr>\n",
       "  </tbody>\n",
       "</table>\n",
       "</div>"
      ],
      "text/plain": [
       "                    Name Platform     Genre Publisher Developer Rating  \\\n",
       "0             Wii Sports      Wii    Sports  Nintendo  Nintendo      E   \n",
       "1         Mario Kart Wii      Wii    Racing  Nintendo  Nintendo      E   \n",
       "2      Wii Sports Resort      Wii    Sports  Nintendo  Nintendo      E   \n",
       "3  New Super Mario Bros.       DS  Platform  Nintendo  Nintendo      E   \n",
       "4               Wii Play      Wii      Misc  Nintendo  Nintendo      E   \n",
       "\n",
       "   Year_of_Release  NA_Sales  EU_Sales  JP_Sales  Other_Sales  Global_Sales  \\\n",
       "0           2006.0     41.36     28.96      3.77         8.45         82.53   \n",
       "1           2008.0     15.68     12.76      3.79         3.29         35.52   \n",
       "2           2009.0     15.61     10.93      3.28         2.95         32.77   \n",
       "3           2006.0     11.28      9.14      6.50         2.88         29.80   \n",
       "4           2006.0     13.96      9.18      2.93         2.84         28.92   \n",
       "\n",
       "   Critic_Score  Critic_Count  User_Score  User_Count  \n",
       "0          76.0          51.0         8.0       322.0  \n",
       "1          82.0          73.0         8.3       709.0  \n",
       "2          80.0          73.0         8.0       192.0  \n",
       "3          89.0          65.0         8.5       431.0  \n",
       "4          58.0          41.0         6.6       129.0  "
      ]
     },
     "execution_count": 12,
     "metadata": {},
     "output_type": "execute_result"
    }
   ],
   "source": [
    "# Reassign the categorical values to column features\n",
    "Z = pd.DataFrame(enc.inverse_transform(df3), \\\n",
    "                 columns=df3[['Name','Platform','Genre','Publisher','Developer','Rating']].columns)\n",
    "df4 = df2.drop(['Name','Platform','Genre','Publisher','Developer','Rating'], axis=1)\n",
    "df = pd.concat([Z, df4], axis=1)\n",
    "df.head()"
   ]
  },
  {
   "cell_type": "code",
   "execution_count": 13,
   "id": "12c9f80f",
   "metadata": {
    "slideshow": {
     "slide_type": "slide"
    }
   },
   "outputs": [
    {
     "data": {
      "text/plain": [
       "<seaborn.axisgrid.FacetGrid at 0x221aaaf4cd0>"
      ]
     },
     "execution_count": 13,
     "metadata": {},
     "output_type": "execute_result"
    },
    {
     "data": {
      "image/png": "[encoded data removed]",
      "text/plain": [
       "<Figure size 425.475x360 with 1 Axes>"
      ]
     },
     "metadata": {},
     "output_type": "display_data"
    }
   ],
   "source": [
    "# Scatter plot for relational diagram\n",
    "sns.relplot(x='Critic_Score', y='Global_Sales', hue='Rating', data=df)"
   ]
  },
  {
   "cell_type": "markdown",
   "id": "69672721",
   "metadata": {
    "slideshow": {
     "slide_type": "fragment"
    }
   },
   "source": [
    "Games with a medium-high critic score with a rating of 'E' for Everyone was an outlier, but hypothesis testing proves accurate showing that games with a rating of 'E' for Everyone have the highest global sales. Second behind that, it appears rating 'M' for Mature games holds strong posture amongst critic scores and global sales."
   ]
  },
  {
   "cell_type": "code",
   "execution_count": 14,
   "id": "727dc47e",
   "metadata": {
    "slideshow": {
     "slide_type": "slide"
    }
   },
   "outputs": [
    {
     "data": {
      "text/plain": [
       "<seaborn.axisgrid.FacetGrid at 0x221aa6cb9d0>"
      ]
     },
     "execution_count": 14,
     "metadata": {},
     "output_type": "execute_result"
    },
    {
     "data": {
      "image/png": "[encoded data removed]",
      "text/plain": [
       "<Figure size 864x432 with 1 Axes>"
      ]
     },
     "metadata": {},
     "output_type": "display_data"
    }
   ],
   "source": [
    "# User count distribution for games with respect to genre\n",
    "sns.catplot(x='User_Count', y='Genre', kind='boxen', data=df.sort_values('User_Count'), height=6, aspect=2)"
   ]
  },
  {
   "cell_type": "markdown",
   "id": "23a57e04",
   "metadata": {
    "slideshow": {
     "slide_type": "fragment"
    }
   },
   "source": [
    "Here we see the most popular games in terms of user count with respect to genre. Action, shooter, and role-playing (or combination thereof) rank the highest. Note that this does not correlate with user score."
   ]
  },
  {
   "cell_type": "markdown",
   "id": "ef72ae43",
   "metadata": {
    "slideshow": {
     "slide_type": "slide"
    }
   },
   "source": [
    "What we used here is called a boxen plot. The reason is that while conventional boxplots are useful displays for conveying rough information about the central 50% and the extent of data, the information provided by boxplots is appropriately somewhat vague beyond the quartiles, and the expected number of outliers of size n is often less than 10. Larger data sets (n ~ 10,000-100,000) afford more precise estimates of quantiles beyond the quartiles, but conventional boxplots do not show this information about the tails, and, in addition, show large numbers of extreme, but not unexpected, observations.\n",
    "\n",
    "The boxen plot addresses both these shortcomings:\n",
    "(1) it conveys more detailed information in the tails using boxes, but only to the depths where the boxed values are reliable estimates of their corresponding quantiles and\n",
    "(2) outliers are labeled as those observations beyond the most extreme boxed value.\n",
    "\n",
    "Here we see that there is a lot of popularity from users in 'shooter' and 'role-playing' games. Games that combine these together would be almost certainly popular. With these genres, we also see strategy and action are also high in popularity. Again, games with a combination of these genres seem to be the most popular among user count; however, that doesn't seem to necessarily correlate with sales revenue."
   ]
  },
  {
   "cell_type": "markdown",
   "id": "bd129734",
   "metadata": {
    "slideshow": {
     "slide_type": "slide"
    }
   },
   "source": [
    "Now, we'll inspect the data showing statistical information among the numerical features"
   ]
  },
  {
   "cell_type": "code",
   "execution_count": 15,
   "id": "b5c7fdb6",
   "metadata": {
    "slideshow": {
     "slide_type": "fragment"
    }
   },
   "outputs": [
    {
     "data": {
      "text/html": [
       "<div>\n",
       "<style scoped>\n",
       "    .dataframe tbody tr th:only-of-type {\n",
       "        vertical-align: middle;\n",
       "    }\n",
       "\n",
       "    .dataframe tbody tr th {\n",
       "        vertical-align: top;\n",
       "    }\n",
       "\n",
       "    .dataframe thead th {\n",
       "        text-align: right;\n",
       "    }\n",
       "</style>\n",
       "<table border=\"1\" class=\"dataframe\">\n",
       "  <thead>\n",
       "    <tr style=\"text-align: right;\">\n",
       "      <th></th>\n",
       "      <th>count</th>\n",
       "      <th>mean</th>\n",
       "      <th>std</th>\n",
       "      <th>min</th>\n",
       "      <th>25%</th>\n",
       "      <th>50%</th>\n",
       "      <th>75%</th>\n",
       "      <th>max</th>\n",
       "    </tr>\n",
       "  </thead>\n",
       "  <tbody>\n",
       "    <tr>\n",
       "      <th>Year_of_Release</th>\n",
       "      <td>6825.0</td>\n",
       "      <td>2007.436777</td>\n",
       "      <td>4.211248</td>\n",
       "      <td>1985.00</td>\n",
       "      <td>2004.00</td>\n",
       "      <td>2007.00</td>\n",
       "      <td>2011.00</td>\n",
       "      <td>2016.00</td>\n",
       "    </tr>\n",
       "    <tr>\n",
       "      <th>NA_Sales</th>\n",
       "      <td>6825.0</td>\n",
       "      <td>0.394484</td>\n",
       "      <td>0.967385</td>\n",
       "      <td>0.00</td>\n",
       "      <td>0.06</td>\n",
       "      <td>0.15</td>\n",
       "      <td>0.39</td>\n",
       "      <td>41.36</td>\n",
       "    </tr>\n",
       "    <tr>\n",
       "      <th>EU_Sales</th>\n",
       "      <td>6825.0</td>\n",
       "      <td>0.236089</td>\n",
       "      <td>0.687330</td>\n",
       "      <td>0.00</td>\n",
       "      <td>0.02</td>\n",
       "      <td>0.06</td>\n",
       "      <td>0.21</td>\n",
       "      <td>28.96</td>\n",
       "    </tr>\n",
       "    <tr>\n",
       "      <th>JP_Sales</th>\n",
       "      <td>6825.0</td>\n",
       "      <td>0.064158</td>\n",
       "      <td>0.287570</td>\n",
       "      <td>0.00</td>\n",
       "      <td>0.00</td>\n",
       "      <td>0.00</td>\n",
       "      <td>0.01</td>\n",
       "      <td>6.50</td>\n",
       "    </tr>\n",
       "    <tr>\n",
       "      <th>Other_Sales</th>\n",
       "      <td>6825.0</td>\n",
       "      <td>0.082677</td>\n",
       "      <td>0.269871</td>\n",
       "      <td>0.00</td>\n",
       "      <td>0.01</td>\n",
       "      <td>0.02</td>\n",
       "      <td>0.07</td>\n",
       "      <td>10.57</td>\n",
       "    </tr>\n",
       "    <tr>\n",
       "      <th>Global_Sales</th>\n",
       "      <td>6825.0</td>\n",
       "      <td>0.777590</td>\n",
       "      <td>1.963443</td>\n",
       "      <td>0.01</td>\n",
       "      <td>0.11</td>\n",
       "      <td>0.29</td>\n",
       "      <td>0.75</td>\n",
       "      <td>82.53</td>\n",
       "    </tr>\n",
       "    <tr>\n",
       "      <th>Critic_Score</th>\n",
       "      <td>6825.0</td>\n",
       "      <td>70.272088</td>\n",
       "      <td>13.868572</td>\n",
       "      <td>13.00</td>\n",
       "      <td>62.00</td>\n",
       "      <td>72.00</td>\n",
       "      <td>80.00</td>\n",
       "      <td>98.00</td>\n",
       "    </tr>\n",
       "    <tr>\n",
       "      <th>Critic_Count</th>\n",
       "      <td>6825.0</td>\n",
       "      <td>28.931136</td>\n",
       "      <td>19.224165</td>\n",
       "      <td>3.00</td>\n",
       "      <td>14.00</td>\n",
       "      <td>25.00</td>\n",
       "      <td>39.00</td>\n",
       "      <td>113.00</td>\n",
       "    </tr>\n",
       "    <tr>\n",
       "      <th>User_Score</th>\n",
       "      <td>6825.0</td>\n",
       "      <td>7.185626</td>\n",
       "      <td>1.439942</td>\n",
       "      <td>0.50</td>\n",
       "      <td>6.50</td>\n",
       "      <td>7.50</td>\n",
       "      <td>8.20</td>\n",
       "      <td>9.60</td>\n",
       "    </tr>\n",
       "    <tr>\n",
       "      <th>User_Count</th>\n",
       "      <td>6825.0</td>\n",
       "      <td>174.722344</td>\n",
       "      <td>587.428538</td>\n",
       "      <td>4.00</td>\n",
       "      <td>11.00</td>\n",
       "      <td>27.00</td>\n",
       "      <td>89.00</td>\n",
       "      <td>10665.00</td>\n",
       "    </tr>\n",
       "  </tbody>\n",
       "</table>\n",
       "</div>"
      ],
      "text/plain": [
       "                  count         mean         std      min      25%      50%  \\\n",
       "Year_of_Release  6825.0  2007.436777    4.211248  1985.00  2004.00  2007.00   \n",
       "NA_Sales         6825.0     0.394484    0.967385     0.00     0.06     0.15   \n",
       "EU_Sales         6825.0     0.236089    0.687330     0.00     0.02     0.06   \n",
       "JP_Sales         6825.0     0.064158    0.287570     0.00     0.00     0.00   \n",
       "Other_Sales      6825.0     0.082677    0.269871     0.00     0.01     0.02   \n",
       "Global_Sales     6825.0     0.777590    1.963443     0.01     0.11     0.29   \n",
       "Critic_Score     6825.0    70.272088   13.868572    13.00    62.00    72.00   \n",
       "Critic_Count     6825.0    28.931136   19.224165     3.00    14.00    25.00   \n",
       "User_Score       6825.0     7.185626    1.439942     0.50     6.50     7.50   \n",
       "User_Count       6825.0   174.722344  587.428538     4.00    11.00    27.00   \n",
       "\n",
       "                     75%       max  \n",
       "Year_of_Release  2011.00   2016.00  \n",
       "NA_Sales            0.39     41.36  \n",
       "EU_Sales            0.21     28.96  \n",
       "JP_Sales            0.01      6.50  \n",
       "Other_Sales         0.07     10.57  \n",
       "Global_Sales        0.75     82.53  \n",
       "Critic_Score       80.00     98.00  \n",
       "Critic_Count       39.00    113.00  \n",
       "User_Score          8.20      9.60  \n",
       "User_Count         89.00  10665.00  "
      ]
     },
     "execution_count": 15,
     "metadata": {},
     "output_type": "execute_result"
    }
   ],
   "source": [
    "# Show statistics\n",
    "df.describe().transpose()"
   ]
  },
  {
   "cell_type": "code",
   "execution_count": 16,
   "id": "cd007dd6",
   "metadata": {
    "slideshow": {
     "slide_type": "slide"
    }
   },
   "outputs": [],
   "source": [
    "# Use pd.qcut() to bin the data by num_streams and create a pivot table\n",
    "# Group by rank for critic score with respect to global sales\n",
    "rank_labels = ['Poor', 'Noticable', 'Respectful', 'Honorable', 'Elite']\n",
    "df['cScore_Rank_bins'] = pd.qcut(df['Critic_Score'], q=5, labels=rank_labels)\n",
    "df['cCount_Rank_bins'] = pd.qcut(df['Critic_Count'], q=5, labels=rank_labels)\n",
    "df['uCount_Rank_bins'] = pd.qcut(df['User_Count'], q=5, labels=rank_labels)"
   ]
  },
  {
   "cell_type": "code",
   "execution_count": 17,
   "id": "69cff9f6",
   "metadata": {
    "slideshow": {
     "slide_type": "fragment"
    }
   },
   "outputs": [
    {
     "data": {
      "text/html": [
       "<div>\n",
       "<style scoped>\n",
       "    .dataframe tbody tr th:only-of-type {\n",
       "        vertical-align: middle;\n",
       "    }\n",
       "\n",
       "    .dataframe tbody tr th {\n",
       "        vertical-align: top;\n",
       "    }\n",
       "\n",
       "    .dataframe thead th {\n",
       "        text-align: right;\n",
       "    }\n",
       "</style>\n",
       "<table border=\"1\" class=\"dataframe\">\n",
       "  <thead>\n",
       "    <tr style=\"text-align: right;\">\n",
       "      <th></th>\n",
       "      <th>Global_Sales</th>\n",
       "      <th>NA_Sales</th>\n",
       "    </tr>\n",
       "    <tr>\n",
       "      <th>Platform</th>\n",
       "      <th></th>\n",
       "      <th></th>\n",
       "    </tr>\n",
       "  </thead>\n",
       "  <tbody>\n",
       "    <tr>\n",
       "      <th>PS</th>\n",
       "      <td>1.377</td>\n",
       "      <td>0.612</td>\n",
       "    </tr>\n",
       "    <tr>\n",
       "      <th>Wii</th>\n",
       "      <td>1.376</td>\n",
       "      <td>0.716</td>\n",
       "    </tr>\n",
       "    <tr>\n",
       "      <th>PS3</th>\n",
       "      <td>1.020</td>\n",
       "      <td>0.444</td>\n",
       "    </tr>\n",
       "    <tr>\n",
       "      <th>PS4</th>\n",
       "      <td>1.017</td>\n",
       "      <td>0.352</td>\n",
       "    </tr>\n",
       "    <tr>\n",
       "      <th>X360</th>\n",
       "      <td>0.995</td>\n",
       "      <td>0.622</td>\n",
       "    </tr>\n",
       "    <tr>\n",
       "      <th>PS2</th>\n",
       "      <td>0.830</td>\n",
       "      <td>0.415</td>\n",
       "    </tr>\n",
       "    <tr>\n",
       "      <th>DS</th>\n",
       "      <td>0.824</td>\n",
       "      <td>0.374</td>\n",
       "    </tr>\n",
       "    <tr>\n",
       "      <th>XOne</th>\n",
       "      <td>0.815</td>\n",
       "      <td>0.475</td>\n",
       "    </tr>\n",
       "    <tr>\n",
       "      <th>3DS</th>\n",
       "      <td>0.795</td>\n",
       "      <td>0.314</td>\n",
       "    </tr>\n",
       "    <tr>\n",
       "      <th>WiiU</th>\n",
       "      <td>0.742</td>\n",
       "      <td>0.345</td>\n",
       "    </tr>\n",
       "    <tr>\n",
       "      <th>GBA</th>\n",
       "      <td>0.556</td>\n",
       "      <td>0.335</td>\n",
       "    </tr>\n",
       "    <tr>\n",
       "      <th>PSP</th>\n",
       "      <td>0.482</td>\n",
       "      <td>0.209</td>\n",
       "    </tr>\n",
       "    <tr>\n",
       "      <th>GC</th>\n",
       "      <td>0.458</td>\n",
       "      <td>0.310</td>\n",
       "    </tr>\n",
       "    <tr>\n",
       "      <th>XB</th>\n",
       "      <td>0.375</td>\n",
       "      <td>0.271</td>\n",
       "    </tr>\n",
       "    <tr>\n",
       "      <th>DC</th>\n",
       "      <td>0.325</td>\n",
       "      <td>0.110</td>\n",
       "    </tr>\n",
       "    <tr>\n",
       "      <th>PC</th>\n",
       "      <td>0.287</td>\n",
       "      <td>0.098</td>\n",
       "    </tr>\n",
       "    <tr>\n",
       "      <th>PSV</th>\n",
       "      <td>0.262</td>\n",
       "      <td>0.084</td>\n",
       "    </tr>\n",
       "  </tbody>\n",
       "</table>\n",
       "</div>"
      ],
      "text/plain": [
       "          Global_Sales  NA_Sales\n",
       "Platform                        \n",
       "PS               1.377     0.612\n",
       "Wii              1.376     0.716\n",
       "PS3              1.020     0.444\n",
       "PS4              1.017     0.352\n",
       "X360             0.995     0.622\n",
       "PS2              0.830     0.415\n",
       "DS               0.824     0.374\n",
       "XOne             0.815     0.475\n",
       "3DS              0.795     0.314\n",
       "WiiU             0.742     0.345\n",
       "GBA              0.556     0.335\n",
       "PSP              0.482     0.209\n",
       "GC               0.458     0.310\n",
       "XB               0.375     0.271\n",
       "DC               0.325     0.110\n",
       "PC               0.287     0.098\n",
       "PSV              0.262     0.084"
      ]
     },
     "execution_count": 17,
     "metadata": {},
     "output_type": "execute_result"
    }
   ],
   "source": [
    "# Do some data aggregation with pivot tables\n",
    "# Rank Platforms in terms of global sales\n",
    "cols_to_show = ['NA_Sales', 'Global_Sales']\n",
    "plat_pvt = pd.pivot_table(df, index=['Platform'], values=cols_to_show).round(3)\n",
    "sort_plat = plat_pvt.sort_values(by='Global_Sales', ascending=False)\n",
    "sort_plat"
   ]
  },
  {
   "cell_type": "code",
   "execution_count": 18,
   "id": "49534ef7",
   "metadata": {
    "slideshow": {
     "slide_type": "slide"
    }
   },
   "outputs": [
    {
     "data": {
      "text/html": [
       "<div>\n",
       "<style scoped>\n",
       "    .dataframe tbody tr th:only-of-type {\n",
       "        vertical-align: middle;\n",
       "    }\n",
       "\n",
       "    .dataframe tbody tr th {\n",
       "        vertical-align: top;\n",
       "    }\n",
       "\n",
       "    .dataframe thead th {\n",
       "        text-align: right;\n",
       "    }\n",
       "</style>\n",
       "<table border=\"1\" class=\"dataframe\">\n",
       "  <thead>\n",
       "    <tr style=\"text-align: right;\">\n",
       "      <th></th>\n",
       "      <th>Global_Sales</th>\n",
       "      <th>NA_Sales</th>\n",
       "    </tr>\n",
       "    <tr>\n",
       "      <th>Publisher</th>\n",
       "      <th></th>\n",
       "      <th></th>\n",
       "    </tr>\n",
       "  </thead>\n",
       "  <tbody>\n",
       "    <tr>\n",
       "      <th>Nintendo</th>\n",
       "      <td>2.919</td>\n",
       "      <td>1.276</td>\n",
       "    </tr>\n",
       "    <tr>\n",
       "      <th>GT Interactive</th>\n",
       "      <td>2.833</td>\n",
       "      <td>1.470</td>\n",
       "    </tr>\n",
       "    <tr>\n",
       "      <th>SquareSoft</th>\n",
       "      <td>2.764</td>\n",
       "      <td>0.897</td>\n",
       "    </tr>\n",
       "    <tr>\n",
       "      <th>RedOctane</th>\n",
       "      <td>2.170</td>\n",
       "      <td>1.610</td>\n",
       "    </tr>\n",
       "    <tr>\n",
       "      <th>Hello Games</th>\n",
       "      <td>1.700</td>\n",
       "      <td>0.630</td>\n",
       "    </tr>\n",
       "    <tr>\n",
       "      <th>Valve</th>\n",
       "      <td>1.700</td>\n",
       "      <td>0.830</td>\n",
       "    </tr>\n",
       "    <tr>\n",
       "      <th>Bethesda Softworks</th>\n",
       "      <td>1.539</td>\n",
       "      <td>0.752</td>\n",
       "    </tr>\n",
       "    <tr>\n",
       "      <th>Microsoft Game Studios</th>\n",
       "      <td>1.535</td>\n",
       "      <td>0.985</td>\n",
       "    </tr>\n",
       "    <tr>\n",
       "      <th>Sony Computer Entertainment Europe</th>\n",
       "      <td>1.528</td>\n",
       "      <td>0.655</td>\n",
       "    </tr>\n",
       "    <tr>\n",
       "      <th>Hasbro Interactive</th>\n",
       "      <td>1.430</td>\n",
       "      <td>0.800</td>\n",
       "    </tr>\n",
       "    <tr>\n",
       "      <th>Take-Two Interactive</th>\n",
       "      <td>1.283</td>\n",
       "      <td>0.688</td>\n",
       "    </tr>\n",
       "    <tr>\n",
       "      <th>RTL</th>\n",
       "      <td>1.240</td>\n",
       "      <td>0.450</td>\n",
       "    </tr>\n",
       "    <tr>\n",
       "      <th>Sony Computer Entertainment</th>\n",
       "      <td>1.228</td>\n",
       "      <td>0.560</td>\n",
       "    </tr>\n",
       "    <tr>\n",
       "      <th>Black Label Games</th>\n",
       "      <td>1.200</td>\n",
       "      <td>0.590</td>\n",
       "    </tr>\n",
       "    <tr>\n",
       "      <th>Russel</th>\n",
       "      <td>1.120</td>\n",
       "      <td>0.000</td>\n",
       "    </tr>\n",
       "    <tr>\n",
       "      <th>Activision</th>\n",
       "      <td>1.089</td>\n",
       "      <td>0.624</td>\n",
       "    </tr>\n",
       "    <tr>\n",
       "      <th>Valve Software</th>\n",
       "      <td>1.067</td>\n",
       "      <td>0.580</td>\n",
       "    </tr>\n",
       "    <tr>\n",
       "      <th>Virgin Interactive</th>\n",
       "      <td>1.033</td>\n",
       "      <td>0.392</td>\n",
       "    </tr>\n",
       "    <tr>\n",
       "      <th>LucasArts</th>\n",
       "      <td>1.026</td>\n",
       "      <td>0.592</td>\n",
       "    </tr>\n",
       "    <tr>\n",
       "      <th>Electronic Arts</th>\n",
       "      <td>0.920</td>\n",
       "      <td>0.493</td>\n",
       "    </tr>\n",
       "  </tbody>\n",
       "</table>\n",
       "</div>"
      ],
      "text/plain": [
       "                                    Global_Sales  NA_Sales\n",
       "Publisher                                                 \n",
       "Nintendo                                   2.919     1.276\n",
       "GT Interactive                             2.833     1.470\n",
       "SquareSoft                                 2.764     0.897\n",
       "RedOctane                                  2.170     1.610\n",
       "Hello Games                                1.700     0.630\n",
       "Valve                                      1.700     0.830\n",
       "Bethesda Softworks                         1.539     0.752\n",
       "Microsoft Game Studios                     1.535     0.985\n",
       "Sony Computer Entertainment Europe         1.528     0.655\n",
       "Hasbro Interactive                         1.430     0.800\n",
       "Take-Two Interactive                       1.283     0.688\n",
       "RTL                                        1.240     0.450\n",
       "Sony Computer Entertainment                1.228     0.560\n",
       "Black Label Games                          1.200     0.590\n",
       "Russel                                     1.120     0.000\n",
       "Activision                                 1.089     0.624\n",
       "Valve Software                             1.067     0.580\n",
       "Virgin Interactive                         1.033     0.392\n",
       "LucasArts                                  1.026     0.592\n",
       "Electronic Arts                            0.920     0.493"
      ]
     },
     "execution_count": 18,
     "metadata": {},
     "output_type": "execute_result"
    }
   ],
   "source": [
    "# Rank Publishers in terms of global sales\n",
    "pub_pvt = pd.pivot_table(df, index=['Publisher'], values=cols_to_show).round(3)\n",
    "sort_pub = pub_pvt.sort_values(by='Global_Sales', ascending=False)\n",
    "sort_pub.head(20)"
   ]
  },
  {
   "cell_type": "code",
   "execution_count": 19,
   "id": "db75f2d9",
   "metadata": {
    "slideshow": {
     "slide_type": "slide"
    }
   },
   "outputs": [
    {
     "data": {
      "text/html": [
       "<div>\n",
       "<style scoped>\n",
       "    .dataframe tbody tr th:only-of-type {\n",
       "        vertical-align: middle;\n",
       "    }\n",
       "\n",
       "    .dataframe tbody tr th {\n",
       "        vertical-align: top;\n",
       "    }\n",
       "\n",
       "    .dataframe thead tr th {\n",
       "        text-align: left;\n",
       "    }\n",
       "\n",
       "    .dataframe thead tr:last-of-type th {\n",
       "        text-align: right;\n",
       "    }\n",
       "</style>\n",
       "<table border=\"1\" class=\"dataframe\">\n",
       "  <thead>\n",
       "    <tr>\n",
       "      <th></th>\n",
       "      <th></th>\n",
       "      <th colspan=\"5\" halign=\"left\">Global_Sales</th>\n",
       "    </tr>\n",
       "    <tr>\n",
       "      <th></th>\n",
       "      <th>cScore_Rank_bins</th>\n",
       "      <th>Poor</th>\n",
       "      <th>Noticable</th>\n",
       "      <th>Respectful</th>\n",
       "      <th>Honorable</th>\n",
       "      <th>Elite</th>\n",
       "    </tr>\n",
       "    <tr>\n",
       "      <th>Rating</th>\n",
       "      <th>Genre</th>\n",
       "      <th></th>\n",
       "      <th></th>\n",
       "      <th></th>\n",
       "      <th></th>\n",
       "      <th></th>\n",
       "    </tr>\n",
       "  </thead>\n",
       "  <tbody>\n",
       "    <tr>\n",
       "      <th rowspan=\"12\" valign=\"top\">E</th>\n",
       "      <th>Action</th>\n",
       "      <td>11.58</td>\n",
       "      <td>14.49</td>\n",
       "      <td>15.74</td>\n",
       "      <td>17.87</td>\n",
       "      <td>26.74</td>\n",
       "    </tr>\n",
       "    <tr>\n",
       "      <th>Adventure</th>\n",
       "      <td>2.06</td>\n",
       "      <td>4.33</td>\n",
       "      <td>2.45</td>\n",
       "      <td>1.22</td>\n",
       "      <td>0.21</td>\n",
       "    </tr>\n",
       "    <tr>\n",
       "      <th>Fighting</th>\n",
       "      <td>0.32</td>\n",
       "      <td>0.02</td>\n",
       "      <td>0.00</td>\n",
       "      <td>0.00</td>\n",
       "      <td>0.00</td>\n",
       "    </tr>\n",
       "    <tr>\n",
       "      <th>Misc</th>\n",
       "      <td>56.84</td>\n",
       "      <td>59.97</td>\n",
       "      <td>34.56</td>\n",
       "      <td>31.14</td>\n",
       "      <td>7.19</td>\n",
       "    </tr>\n",
       "    <tr>\n",
       "      <th>Platform</th>\n",
       "      <td>11.71</td>\n",
       "      <td>18.71</td>\n",
       "      <td>23.20</td>\n",
       "      <td>16.47</td>\n",
       "      <td>117.89</td>\n",
       "    </tr>\n",
       "    <tr>\n",
       "      <th>Puzzle</th>\n",
       "      <td>3.57</td>\n",
       "      <td>4.13</td>\n",
       "      <td>5.19</td>\n",
       "      <td>18.40</td>\n",
       "      <td>12.02</td>\n",
       "    </tr>\n",
       "    <tr>\n",
       "      <th>Racing</th>\n",
       "      <td>19.99</td>\n",
       "      <td>19.78</td>\n",
       "      <td>14.44</td>\n",
       "      <td>73.36</td>\n",
       "      <td>130.27</td>\n",
       "    </tr>\n",
       "    <tr>\n",
       "      <th>Role-Playing</th>\n",
       "      <td>4.25</td>\n",
       "      <td>11.06</td>\n",
       "      <td>1.87</td>\n",
       "      <td>6.12</td>\n",
       "      <td>14.37</td>\n",
       "    </tr>\n",
       "    <tr>\n",
       "      <th>Shooter</th>\n",
       "      <td>0.03</td>\n",
       "      <td>0.14</td>\n",
       "      <td>0.11</td>\n",
       "      <td>0.92</td>\n",
       "      <td>0.15</td>\n",
       "    </tr>\n",
       "    <tr>\n",
       "      <th>Simulation</th>\n",
       "      <td>5.51</td>\n",
       "      <td>24.01</td>\n",
       "      <td>16.92</td>\n",
       "      <td>6.54</td>\n",
       "      <td>17.60</td>\n",
       "    </tr>\n",
       "    <tr>\n",
       "      <th>Sports</th>\n",
       "      <td>23.70</td>\n",
       "      <td>37.82</td>\n",
       "      <td>119.43</td>\n",
       "      <td>207.67</td>\n",
       "      <td>226.73</td>\n",
       "    </tr>\n",
       "    <tr>\n",
       "      <th>Strategy</th>\n",
       "      <td>3.53</td>\n",
       "      <td>2.09</td>\n",
       "      <td>0.52</td>\n",
       "      <td>1.00</td>\n",
       "      <td>0.39</td>\n",
       "    </tr>\n",
       "    <tr>\n",
       "      <th rowspan=\"12\" valign=\"top\">E10+</th>\n",
       "      <th>Action</th>\n",
       "      <td>11.76</td>\n",
       "      <td>21.29</td>\n",
       "      <td>40.14</td>\n",
       "      <td>47.48</td>\n",
       "      <td>12.07</td>\n",
       "    </tr>\n",
       "    <tr>\n",
       "      <th>Adventure</th>\n",
       "      <td>1.99</td>\n",
       "      <td>2.47</td>\n",
       "      <td>0.07</td>\n",
       "      <td>0.43</td>\n",
       "      <td>0.00</td>\n",
       "    </tr>\n",
       "    <tr>\n",
       "      <th>Fighting</th>\n",
       "      <td>0.75</td>\n",
       "      <td>1.55</td>\n",
       "      <td>0.26</td>\n",
       "      <td>0.00</td>\n",
       "      <td>0.00</td>\n",
       "    </tr>\n",
       "    <tr>\n",
       "      <th>Misc</th>\n",
       "      <td>17.30</td>\n",
       "      <td>6.95</td>\n",
       "      <td>45.84</td>\n",
       "      <td>8.98</td>\n",
       "      <td>0.48</td>\n",
       "    </tr>\n",
       "    <tr>\n",
       "      <th>Platform</th>\n",
       "      <td>9.87</td>\n",
       "      <td>9.46</td>\n",
       "      <td>2.18</td>\n",
       "      <td>5.08</td>\n",
       "      <td>8.54</td>\n",
       "    </tr>\n",
       "    <tr>\n",
       "      <th>Puzzle</th>\n",
       "      <td>0.10</td>\n",
       "      <td>0.13</td>\n",
       "      <td>2.55</td>\n",
       "      <td>4.08</td>\n",
       "      <td>12.79</td>\n",
       "    </tr>\n",
       "    <tr>\n",
       "      <th>Racing</th>\n",
       "      <td>1.98</td>\n",
       "      <td>6.89</td>\n",
       "      <td>9.33</td>\n",
       "      <td>7.87</td>\n",
       "      <td>12.30</td>\n",
       "    </tr>\n",
       "    <tr>\n",
       "      <th>Role-Playing</th>\n",
       "      <td>2.42</td>\n",
       "      <td>4.51</td>\n",
       "      <td>8.02</td>\n",
       "      <td>10.14</td>\n",
       "      <td>14.82</td>\n",
       "    </tr>\n",
       "    <tr>\n",
       "      <th>Shooter</th>\n",
       "      <td>0.49</td>\n",
       "      <td>3.79</td>\n",
       "      <td>1.92</td>\n",
       "      <td>1.19</td>\n",
       "      <td>4.30</td>\n",
       "    </tr>\n",
       "    <tr>\n",
       "      <th>Simulation</th>\n",
       "      <td>2.35</td>\n",
       "      <td>3.09</td>\n",
       "      <td>6.36</td>\n",
       "      <td>0.19</td>\n",
       "      <td>1.21</td>\n",
       "    </tr>\n",
       "    <tr>\n",
       "      <th>Sports</th>\n",
       "      <td>3.44</td>\n",
       "      <td>6.39</td>\n",
       "      <td>13.22</td>\n",
       "      <td>9.18</td>\n",
       "      <td>12.18</td>\n",
       "    </tr>\n",
       "    <tr>\n",
       "      <th>Strategy</th>\n",
       "      <td>0.20</td>\n",
       "      <td>1.01</td>\n",
       "      <td>1.64</td>\n",
       "      <td>2.93</td>\n",
       "      <td>2.07</td>\n",
       "    </tr>\n",
       "    <tr>\n",
       "      <th rowspan=\"12\" valign=\"top\">K-A</th>\n",
       "      <th>Action</th>\n",
       "      <td>0.00</td>\n",
       "      <td>0.00</td>\n",
       "      <td>0.00</td>\n",
       "      <td>0.00</td>\n",
       "      <td>0.00</td>\n",
       "    </tr>\n",
       "    <tr>\n",
       "      <th>Adventure</th>\n",
       "      <td>0.00</td>\n",
       "      <td>0.00</td>\n",
       "      <td>0.00</td>\n",
       "      <td>0.00</td>\n",
       "      <td>0.00</td>\n",
       "    </tr>\n",
       "    <tr>\n",
       "      <th>Fighting</th>\n",
       "      <td>0.00</td>\n",
       "      <td>0.00</td>\n",
       "      <td>0.00</td>\n",
       "      <td>0.00</td>\n",
       "      <td>0.00</td>\n",
       "    </tr>\n",
       "    <tr>\n",
       "      <th>Misc</th>\n",
       "      <td>0.00</td>\n",
       "      <td>0.00</td>\n",
       "      <td>0.00</td>\n",
       "      <td>0.00</td>\n",
       "      <td>1.92</td>\n",
       "    </tr>\n",
       "    <tr>\n",
       "      <th>Platform</th>\n",
       "      <td>0.00</td>\n",
       "      <td>0.00</td>\n",
       "      <td>0.00</td>\n",
       "      <td>0.00</td>\n",
       "      <td>0.00</td>\n",
       "    </tr>\n",
       "    <tr>\n",
       "      <th>Puzzle</th>\n",
       "      <td>0.00</td>\n",
       "      <td>0.00</td>\n",
       "      <td>0.00</td>\n",
       "      <td>0.00</td>\n",
       "      <td>0.00</td>\n",
       "    </tr>\n",
       "    <tr>\n",
       "      <th>Racing</th>\n",
       "      <td>0.00</td>\n",
       "      <td>0.00</td>\n",
       "      <td>0.00</td>\n",
       "      <td>0.00</td>\n",
       "      <td>0.00</td>\n",
       "    </tr>\n",
       "    <tr>\n",
       "      <th>Role-Playing</th>\n",
       "      <td>0.00</td>\n",
       "      <td>0.00</td>\n",
       "      <td>0.00</td>\n",
       "      <td>0.00</td>\n",
       "      <td>0.00</td>\n",
       "    </tr>\n",
       "    <tr>\n",
       "      <th>Shooter</th>\n",
       "      <td>0.00</td>\n",
       "      <td>0.00</td>\n",
       "      <td>0.00</td>\n",
       "      <td>0.00</td>\n",
       "      <td>0.00</td>\n",
       "    </tr>\n",
       "    <tr>\n",
       "      <th>Simulation</th>\n",
       "      <td>0.00</td>\n",
       "      <td>0.00</td>\n",
       "      <td>0.00</td>\n",
       "      <td>0.00</td>\n",
       "      <td>0.00</td>\n",
       "    </tr>\n",
       "    <tr>\n",
       "      <th>Sports</th>\n",
       "      <td>0.00</td>\n",
       "      <td>0.00</td>\n",
       "      <td>0.00</td>\n",
       "      <td>0.00</td>\n",
       "      <td>0.00</td>\n",
       "    </tr>\n",
       "    <tr>\n",
       "      <th>Strategy</th>\n",
       "      <td>0.00</td>\n",
       "      <td>0.00</td>\n",
       "      <td>0.00</td>\n",
       "      <td>0.00</td>\n",
       "      <td>0.00</td>\n",
       "    </tr>\n",
       "    <tr>\n",
       "      <th rowspan=\"12\" valign=\"top\">M</th>\n",
       "      <th>Action</th>\n",
       "      <td>22.32</td>\n",
       "      <td>24.00</td>\n",
       "      <td>65.22</td>\n",
       "      <td>69.23</td>\n",
       "      <td>332.97</td>\n",
       "    </tr>\n",
       "    <tr>\n",
       "      <th>Adventure</th>\n",
       "      <td>1.79</td>\n",
       "      <td>2.20</td>\n",
       "      <td>3.28</td>\n",
       "      <td>15.02</td>\n",
       "      <td>13.88</td>\n",
       "    </tr>\n",
       "    <tr>\n",
       "      <th>Fighting</th>\n",
       "      <td>2.11</td>\n",
       "      <td>0.91</td>\n",
       "      <td>2.64</td>\n",
       "      <td>4.37</td>\n",
       "      <td>13.22</td>\n",
       "    </tr>\n",
       "    <tr>\n",
       "      <th>Misc</th>\n",
       "      <td>0.51</td>\n",
       "      <td>0.00</td>\n",
       "      <td>0.00</td>\n",
       "      <td>0.00</td>\n",
       "      <td>0.79</td>\n",
       "    </tr>\n",
       "    <tr>\n",
       "      <th>Platform</th>\n",
       "      <td>0.00</td>\n",
       "      <td>0.00</td>\n",
       "      <td>1.60</td>\n",
       "      <td>0.00</td>\n",
       "      <td>0.00</td>\n",
       "    </tr>\n",
       "    <tr>\n",
       "      <th>Puzzle</th>\n",
       "      <td>0.00</td>\n",
       "      <td>0.00</td>\n",
       "      <td>0.00</td>\n",
       "      <td>0.00</td>\n",
       "      <td>0.00</td>\n",
       "    </tr>\n",
       "    <tr>\n",
       "      <th>Racing</th>\n",
       "      <td>1.96</td>\n",
       "      <td>0.28</td>\n",
       "      <td>0.00</td>\n",
       "      <td>0.00</td>\n",
       "      <td>1.41</td>\n",
       "    </tr>\n",
       "    <tr>\n",
       "      <th>Role-Playing</th>\n",
       "      <td>2.83</td>\n",
       "      <td>5.86</td>\n",
       "      <td>3.03</td>\n",
       "      <td>17.60</td>\n",
       "      <td>88.79</td>\n",
       "    </tr>\n",
       "    <tr>\n",
       "      <th>Shooter</th>\n",
       "      <td>17.83</td>\n",
       "      <td>21.68</td>\n",
       "      <td>73.30</td>\n",
       "      <td>85.75</td>\n",
       "      <td>328.05</td>\n",
       "    </tr>\n",
       "    <tr>\n",
       "      <th>Simulation</th>\n",
       "      <td>0.20</td>\n",
       "      <td>0.00</td>\n",
       "      <td>0.62</td>\n",
       "      <td>0.41</td>\n",
       "      <td>0.00</td>\n",
       "    </tr>\n",
       "    <tr>\n",
       "      <th>Sports</th>\n",
       "      <td>0.40</td>\n",
       "      <td>0.26</td>\n",
       "      <td>0.89</td>\n",
       "      <td>0.00</td>\n",
       "      <td>0.00</td>\n",
       "    </tr>\n",
       "    <tr>\n",
       "      <th>Strategy</th>\n",
       "      <td>0.43</td>\n",
       "      <td>0.00</td>\n",
       "      <td>0.37</td>\n",
       "      <td>0.00</td>\n",
       "      <td>1.19</td>\n",
       "    </tr>\n",
       "    <tr>\n",
       "      <th rowspan=\"12\" valign=\"top\">T</th>\n",
       "      <th>Action</th>\n",
       "      <td>46.19</td>\n",
       "      <td>48.12</td>\n",
       "      <td>44.60</td>\n",
       "      <td>34.60</td>\n",
       "      <td>83.70</td>\n",
       "    </tr>\n",
       "    <tr>\n",
       "      <th>Adventure</th>\n",
       "      <td>1.64</td>\n",
       "      <td>2.16</td>\n",
       "      <td>1.51</td>\n",
       "      <td>3.56</td>\n",
       "      <td>0.48</td>\n",
       "    </tr>\n",
       "    <tr>\n",
       "      <th>Fighting</th>\n",
       "      <td>11.88</td>\n",
       "      <td>14.58</td>\n",
       "      <td>37.45</td>\n",
       "      <td>33.44</td>\n",
       "      <td>77.63</td>\n",
       "    </tr>\n",
       "    <tr>\n",
       "      <th>Misc</th>\n",
       "      <td>2.86</td>\n",
       "      <td>3.17</td>\n",
       "      <td>15.17</td>\n",
       "      <td>17.82</td>\n",
       "      <td>54.57</td>\n",
       "    </tr>\n",
       "    <tr>\n",
       "      <th>Platform</th>\n",
       "      <td>2.13</td>\n",
       "      <td>2.29</td>\n",
       "      <td>0.67</td>\n",
       "      <td>2.29</td>\n",
       "      <td>10.39</td>\n",
       "    </tr>\n",
       "    <tr>\n",
       "      <th>Puzzle</th>\n",
       "      <td>0.04</td>\n",
       "      <td>0.00</td>\n",
       "      <td>0.29</td>\n",
       "      <td>0.45</td>\n",
       "      <td>0.00</td>\n",
       "    </tr>\n",
       "    <tr>\n",
       "      <th>Racing</th>\n",
       "      <td>7.38</td>\n",
       "      <td>13.29</td>\n",
       "      <td>6.96</td>\n",
       "      <td>20.53</td>\n",
       "      <td>27.83</td>\n",
       "    </tr>\n",
       "    <tr>\n",
       "      <th>Role-Playing</th>\n",
       "      <td>7.70</td>\n",
       "      <td>14.12</td>\n",
       "      <td>20.82</td>\n",
       "      <td>34.52</td>\n",
       "      <td>78.85</td>\n",
       "    </tr>\n",
       "    <tr>\n",
       "      <th>Shooter</th>\n",
       "      <td>12.23</td>\n",
       "      <td>23.80</td>\n",
       "      <td>32.64</td>\n",
       "      <td>22.80</td>\n",
       "      <td>45.22</td>\n",
       "    </tr>\n",
       "    <tr>\n",
       "      <th>Simulation</th>\n",
       "      <td>3.76</td>\n",
       "      <td>5.44</td>\n",
       "      <td>11.85</td>\n",
       "      <td>9.68</td>\n",
       "      <td>8.19</td>\n",
       "    </tr>\n",
       "    <tr>\n",
       "      <th>Sports</th>\n",
       "      <td>9.43</td>\n",
       "      <td>5.91</td>\n",
       "      <td>10.00</td>\n",
       "      <td>7.80</td>\n",
       "      <td>27.41</td>\n",
       "    </tr>\n",
       "    <tr>\n",
       "      <th>Strategy</th>\n",
       "      <td>0.76</td>\n",
       "      <td>1.75</td>\n",
       "      <td>5.09</td>\n",
       "      <td>4.63</td>\n",
       "      <td>0.48</td>\n",
       "    </tr>\n",
       "  </tbody>\n",
       "</table>\n",
       "</div>"
      ],
      "text/plain": [
       "                    Global_Sales                                       \n",
       "cScore_Rank_bins            Poor Noticable Respectful Honorable   Elite\n",
       "Rating Genre                                                           \n",
       "E      Action              11.58     14.49      15.74     17.87   26.74\n",
       "       Adventure            2.06      4.33       2.45      1.22    0.21\n",
       "       Fighting             0.32      0.02       0.00      0.00    0.00\n",
       "       Misc                56.84     59.97      34.56     31.14    7.19\n",
       "       Platform            11.71     18.71      23.20     16.47  117.89\n",
       "       Puzzle               3.57      4.13       5.19     18.40   12.02\n",
       "       Racing              19.99     19.78      14.44     73.36  130.27\n",
       "       Role-Playing         4.25     11.06       1.87      6.12   14.37\n",
       "       Shooter              0.03      0.14       0.11      0.92    0.15\n",
       "       Simulation           5.51     24.01      16.92      6.54   17.60\n",
       "       Sports              23.70     37.82     119.43    207.67  226.73\n",
       "       Strategy             3.53      2.09       0.52      1.00    0.39\n",
       "E10+   Action              11.76     21.29      40.14     47.48   12.07\n",
       "       Adventure            1.99      2.47       0.07      0.43    0.00\n",
       "       Fighting             0.75      1.55       0.26      0.00    0.00\n",
       "       Misc                17.30      6.95      45.84      8.98    0.48\n",
       "       Platform             9.87      9.46       2.18      5.08    8.54\n",
       "       Puzzle               0.10      0.13       2.55      4.08   12.79\n",
       "       Racing               1.98      6.89       9.33      7.87   12.30\n",
       "       Role-Playing         2.42      4.51       8.02     10.14   14.82\n",
       "       Shooter              0.49      3.79       1.92      1.19    4.30\n",
       "       Simulation           2.35      3.09       6.36      0.19    1.21\n",
       "       Sports               3.44      6.39      13.22      9.18   12.18\n",
       "       Strategy             0.20      1.01       1.64      2.93    2.07\n",
       "K-A    Action               0.00      0.00       0.00      0.00    0.00\n",
       "       Adventure            0.00      0.00       0.00      0.00    0.00\n",
       "       Fighting             0.00      0.00       0.00      0.00    0.00\n",
       "       Misc                 0.00      0.00       0.00      0.00    1.92\n",
       "       Platform             0.00      0.00       0.00      0.00    0.00\n",
       "       Puzzle               0.00      0.00       0.00      0.00    0.00\n",
       "       Racing               0.00      0.00       0.00      0.00    0.00\n",
       "       Role-Playing         0.00      0.00       0.00      0.00    0.00\n",
       "       Shooter              0.00      0.00       0.00      0.00    0.00\n",
       "       Simulation           0.00      0.00       0.00      0.00    0.00\n",
       "       Sports               0.00      0.00       0.00      0.00    0.00\n",
       "       Strategy             0.00      0.00       0.00      0.00    0.00\n",
       "M      Action              22.32     24.00      65.22     69.23  332.97\n",
       "       Adventure            1.79      2.20       3.28     15.02   13.88\n",
       "       Fighting             2.11      0.91       2.64      4.37   13.22\n",
       "       Misc                 0.51      0.00       0.00      0.00    0.79\n",
       "       Platform             0.00      0.00       1.60      0.00    0.00\n",
       "       Puzzle               0.00      0.00       0.00      0.00    0.00\n",
       "       Racing               1.96      0.28       0.00      0.00    1.41\n",
       "       Role-Playing         2.83      5.86       3.03     17.60   88.79\n",
       "       Shooter             17.83     21.68      73.30     85.75  328.05\n",
       "       Simulation           0.20      0.00       0.62      0.41    0.00\n",
       "       Sports               0.40      0.26       0.89      0.00    0.00\n",
       "       Strategy             0.43      0.00       0.37      0.00    1.19\n",
       "T      Action              46.19     48.12      44.60     34.60   83.70\n",
       "       Adventure            1.64      2.16       1.51      3.56    0.48\n",
       "       Fighting            11.88     14.58      37.45     33.44   77.63\n",
       "       Misc                 2.86      3.17      15.17     17.82   54.57\n",
       "       Platform             2.13      2.29       0.67      2.29   10.39\n",
       "       Puzzle               0.04      0.00       0.29      0.45    0.00\n",
       "       Racing               7.38     13.29       6.96     20.53   27.83\n",
       "       Role-Playing         7.70     14.12      20.82     34.52   78.85\n",
       "       Shooter             12.23     23.80      32.64     22.80   45.22\n",
       "       Simulation           3.76      5.44      11.85      9.68    8.19\n",
       "       Sports               9.43      5.91      10.00      7.80   27.41\n",
       "       Strategy             0.76      1.75       5.09      4.63    0.48"
      ]
     },
     "execution_count": 19,
     "metadata": {},
     "output_type": "execute_result"
    }
   ],
   "source": [
    "# Do some group filtering and aggregate some pivot table data for genre and rating\n",
    "dfgroup = df[df.Platform.isin(['PS','Wii','PS3','PS4','X360','PS2','DS','XOne'])]\n",
    "grp = dfgroup[['cScore_Rank_bins','Platform','Genre','Rating','Global_Sales']]\n",
    "grp = grp.pivot_table(index=['Rating','Genre'], columns='cScore_Rank_bins', aggfunc='sum')\n",
    "grp"
   ]
  },
  {
   "cell_type": "code",
   "execution_count": 20,
   "id": "98207d10",
   "metadata": {
    "slideshow": {
     "slide_type": "slide"
    }
   },
   "outputs": [
    {
     "data": {
      "text/html": [
       "<div>\n",
       "<style scoped>\n",
       "    .dataframe tbody tr th:only-of-type {\n",
       "        vertical-align: middle;\n",
       "    }\n",
       "\n",
       "    .dataframe tbody tr th {\n",
       "        vertical-align: top;\n",
       "    }\n",
       "\n",
       "    .dataframe thead th {\n",
       "        text-align: right;\n",
       "    }\n",
       "</style>\n",
       "<table border=\"1\" class=\"dataframe\">\n",
       "  <thead>\n",
       "    <tr style=\"text-align: right;\">\n",
       "      <th></th>\n",
       "      <th>EU_Sales</th>\n",
       "      <th>Global_Sales</th>\n",
       "      <th>JP_Sales</th>\n",
       "      <th>NA_Sales</th>\n",
       "      <th>Other_Sales</th>\n",
       "    </tr>\n",
       "    <tr>\n",
       "      <th>cScore_Rank_bins</th>\n",
       "      <th></th>\n",
       "      <th></th>\n",
       "      <th></th>\n",
       "      <th></th>\n",
       "      <th></th>\n",
       "    </tr>\n",
       "  </thead>\n",
       "  <tbody>\n",
       "    <tr>\n",
       "      <th>Elite</th>\n",
       "      <td>702.83</td>\n",
       "      <td>2288.40</td>\n",
       "      <td>194.28</td>\n",
       "      <td>1140.75</td>\n",
       "      <td>250.48</td>\n",
       "    </tr>\n",
       "    <tr>\n",
       "      <th>Honorable</th>\n",
       "      <td>339.20</td>\n",
       "      <td>1081.94</td>\n",
       "      <td>97.18</td>\n",
       "      <td>530.80</td>\n",
       "      <td>114.55</td>\n",
       "    </tr>\n",
       "    <tr>\n",
       "      <th>Respectful</th>\n",
       "      <td>276.65</td>\n",
       "      <td>910.57</td>\n",
       "      <td>69.09</td>\n",
       "      <td>470.91</td>\n",
       "      <td>93.64</td>\n",
       "    </tr>\n",
       "    <tr>\n",
       "      <th>Noticable</th>\n",
       "      <td>169.22</td>\n",
       "      <td>593.26</td>\n",
       "      <td>51.23</td>\n",
       "      <td>310.56</td>\n",
       "      <td>61.76</td>\n",
       "    </tr>\n",
       "    <tr>\n",
       "      <th>Poor</th>\n",
       "      <td>123.41</td>\n",
       "      <td>432.88</td>\n",
       "      <td>26.10</td>\n",
       "      <td>239.33</td>\n",
       "      <td>43.84</td>\n",
       "    </tr>\n",
       "  </tbody>\n",
       "</table>\n",
       "</div>"
      ],
      "text/plain": [
       "                  EU_Sales  Global_Sales  JP_Sales  NA_Sales  Other_Sales\n",
       "cScore_Rank_bins                                                         \n",
       "Elite               702.83       2288.40    194.28   1140.75       250.48\n",
       "Honorable           339.20       1081.94     97.18    530.80       114.55\n",
       "Respectful          276.65        910.57     69.09    470.91        93.64\n",
       "Noticable           169.22        593.26     51.23    310.56        61.76\n",
       "Poor                123.41        432.88     26.10    239.33        43.84"
      ]
     },
     "execution_count": 20,
     "metadata": {},
     "output_type": "execute_result"
    }
   ],
   "source": [
    "# See how regional sales data stack up against each other in respect to Critic Score\n",
    "sales = ['Global_Sales','NA_Sales','EU_Sales','JP_Sales','Other_Sales']\n",
    "nat_pvt = df.pivot_table(index='cScore_Rank_bins', values=sales, aggfunc='sum')\n",
    "nat_sort = nat_pvt.sort_values(by='Global_Sales', ascending=False)\n",
    "nat_sort"
   ]
  },
  {
   "cell_type": "code",
   "execution_count": 21,
   "id": "4145f19f",
   "metadata": {
    "slideshow": {
     "slide_type": "slide"
    }
   },
   "outputs": [
    {
     "data": {
      "text/plain": [
       "<AxesSubplot:>"
      ]
     },
     "execution_count": 21,
     "metadata": {},
     "output_type": "execute_result"
    },
    {
     "data": {
      "image/png": "[encoded data removed]",
      "text/plain": [
       "<Figure size 576x576 with 1 Axes>"
      ]
     },
     "metadata": {},
     "output_type": "display_data"
    }
   ],
   "source": [
    "# Visualize how the regional sales compare to each other overall\n",
    "nats = df.filter(items=['NA_Sales','EU_Sales','JP_Sales','Other_Sales'])\n",
    "natsum = nats.sum(axis=0)\n",
    "natsort = natsum.sort_values(ascending=False)\n",
    "natsort.plot.pie(figsize=(8, 8), ylabel='', legend=True, autopct=\"%.2f%%\", fontsize=14)"
   ]
  },
  {
   "cell_type": "code",
   "execution_count": 22,
   "id": "90071abf",
   "metadata": {
    "slideshow": {
     "slide_type": "slide"
    }
   },
   "outputs": [
    {
     "data": {
      "image/png": "[encoded data removed]",
      "text/plain": [
       "<Figure size 720x360 with 1 Axes>"
      ]
     },
     "metadata": {},
     "output_type": "display_data"
    }
   ],
   "source": [
    "# Get detailed sales figures for regional summations\n",
    "ax = natsort.plot.bar(ylabel='(in millions)', figsize=(10,5))\n",
    "for p in ax.patches:\n",
    "    ax.annotate(str(np.round(p.get_height(),decimals=2)), (p.get_x()+p.get_width()/8, p.get_height()))"
   ]
  },
  {
   "cell_type": "code",
   "execution_count": 23,
   "id": "574e9ce6",
   "metadata": {
    "slideshow": {
     "slide_type": "slide"
    }
   },
   "outputs": [
    {
     "data": {
      "text/plain": [
       "<seaborn.axisgrid.FacetGrid at 0x221aaaf4f40>"
      ]
     },
     "execution_count": 23,
     "metadata": {},
     "output_type": "execute_result"
    },
    {
     "data": {
      "image/png": "[encoded data removed]",
      "text/plain": [
       "<Figure size 929.475x288 with 1 Axes>"
      ]
     },
     "metadata": {},
     "output_type": "display_data"
    }
   ],
   "source": [
    "# Global Sales visual representation comparing genres and rating\n",
    "sns.catplot(x='Genre', y='Global_Sales', hue='Rating', kind='bar', data=df, height=4, aspect=3)"
   ]
  },
  {
   "cell_type": "markdown",
   "id": "271aa243",
   "metadata": {
    "slideshow": {
     "slide_type": "fragment"
    }
   },
   "source": [
    "Here, we see that in action, the 'AO' rating for 'Adults Only' (Ages 18+) holds the most sales by far in the 'Action' genre. 'Mature' holds the highest sales in the 'Shooter' genre, as one would expect, but also tops in 'Adventure' and 'Role Playing' somewhat surprisingly. The other genres are pretty much dominated by 'E' for 'Everyone', which replaced 'K-A' or 'Kids-Adult' in 1998."
   ]
  },
  {
   "cell_type": "markdown",
   "id": "1fdd608d",
   "metadata": {
    "slideshow": {
     "slide_type": "slide"
    }
   },
   "source": [
    "In summary, we see that the Playstation, Wii, and Xbox (familiar platforms that are well established) top the list of gaming platforms for sales of video games. The most popular genres bringing in the most sales are action games that could be also be subcategorized as sports, racing, simulation, and role-playing or any combination there-of. We saw that the features most strongly correlated with global sales is Critic count, Critic score, and User count. Although the correlation was relatively weak, there wasn't any other features that could be directly correlated with sales figures (regional or global). Japanese sales also were not correlated with any other regional sales data, which begs the question as to why. Wii, manufactured by Nintendo, is a Japanese company. So, it would be interesting to know why sales aren't really big there."
   ]
  },
  {
   "cell_type": "markdown",
   "id": "9549603f",
   "metadata": {
    "slideshow": {
     "slide_type": "slide"
    }
   },
   "source": [
    "## II. Build, Train, Test, Evaluate Models\n",
    "### a. Gradient Boosting Regression Non-DeepLearning Algorithm"
   ]
  },
  {
   "cell_type": "code",
   "execution_count": 24,
   "id": "600dfb34",
   "metadata": {
    "slideshow": {
     "slide_type": "fragment"
    }
   },
   "outputs": [],
   "source": [
    "from sklearn import datasets, ensemble\n",
    "from sklearn.inspection import permutation_importance\n",
    "from sklearn.metrics import mean_squared_error\n",
    "from sklearn.model_selection import train_test_split"
   ]
  },
  {
   "cell_type": "code",
   "execution_count": 25,
   "id": "4ebe6569",
   "metadata": {
    "slideshow": {
     "slide_type": "fragment"
    }
   },
   "outputs": [
    {
     "name": "stdout",
     "output_type": "stream",
     "text": [
      "data set shape: (6825, 10)\n",
      "target set shape: (6825, 1)\n"
     ]
    }
   ],
   "source": [
    "# Seperate the test and target data leaving out Name and geographical sales data\n",
    "dataset = pd.concat([df3, df4], axis=1)\n",
    "target = pd.DataFrame(dataset['Global_Sales'])\n",
    "data = dataset.filter(items=['Platform','Genre','Publisher','Developer','Rating','Year_of_Release',\n",
    "                             'Critic_Score','Critic_Count','User_Score','User_Count'])\n",
    "print('data set shape:', data.shape)\n",
    "print('target set shape:', target.shape)"
   ]
  },
  {
   "cell_type": "code",
   "execution_count": 26,
   "id": "a9898bfb",
   "metadata": {
    "slideshow": {
     "slide_type": "slide"
    }
   },
   "outputs": [],
   "source": [
    "# Seperate the data into training and test datasets with a 90/10 split ratio\n",
    "X, y = data, target\n",
    "X_train, X_test, y_train, y_test = train_test_split(X, y, test_size=0.1, random_state=42)\n",
    "\n",
    "params = {'loss': 'ls',\n",
    "          'learning_rate': 0.01,\n",
    "          'n_estimators': 500,\n",
    "          'max_depth': 5,\n",
    "          'min_samples_split': 5}"
   ]
  },
  {
   "cell_type": "code",
   "execution_count": 27,
   "id": "46707dbd",
   "metadata": {
    "slideshow": {
     "slide_type": "fragment"
    }
   },
   "outputs": [
    {
     "name": "stdout",
     "output_type": "stream",
     "text": [
      "The mean squared error (MSE) on test set: 0.7666\n"
     ]
    }
   ],
   "source": [
    "# Now, let's initiate the gradient boosting regressors and fit it with our training data\n",
    "# Let’s also look and the mean squared error on the test data\n",
    "reg = ensemble.GradientBoostingRegressor(**params)\n",
    "reg.fit(X_train, y_train.values.ravel())\n",
    "mse = mean_squared_error(y_test, reg.predict(X_test))\n",
    "\n",
    "print(\"The mean squared error (MSE) on test set: {:.4f}\".format(mse))"
   ]
  },
  {
   "cell_type": "markdown",
   "id": "845b88e5",
   "metadata": {
    "slideshow": {
     "slide_type": "fragment"
    }
   },
   "source": [
    "MSE is calculated by the sum of square of prediction error which is real output minus predicted output and then divide by the number of data points. It gives you an absolute number on how much your predicted results deviate from the actual number. You cannot interpret many insights from one single result but it gives you a real number to compare against other model results and help you select the best regression model. Initially, though, I feel this is pretty good."
   ]
  },
  {
   "cell_type": "code",
   "execution_count": 28,
   "id": "c3a1af71",
   "metadata": {
    "slideshow": {
     "slide_type": "slide"
    }
   },
   "outputs": [
    {
     "data": {
      "image/png": "[encoded data removed]",
      "text/plain": [
       "<Figure size 864x288 with 1 Axes>"
      ]
     },
     "metadata": {},
     "output_type": "display_data"
    }
   ],
   "source": [
    "# To visualize the results, I will first compute the test set deviance and then plot it against boosting iterations\n",
    "test_score = np.zeros((params['n_estimators'],), dtype=np.float64)\n",
    "for i, y_pred in enumerate(reg.staged_predict(X_test)):\n",
    "    test_score[i] = reg.loss_(y_test, y_pred[i])\n",
    "\n",
    "fig = plt.figure(figsize=(12, 4))\n",
    "plt.title('Deviance')\n",
    "plt.plot(np.arange(params['n_estimators']) + 1, reg.train_score_, 'b-',\n",
    "         label='Training Set Deviance')\n",
    "plt.plot(np.arange(params['n_estimators']) + 1, test_score, 'r-',\n",
    "         label='Test Set Deviance')\n",
    "plt.legend(loc='upper right')\n",
    "plt.xlabel('Boosting Iterations')\n",
    "plt.ylabel('Deviance')\n",
    "fig.tight_layout()\n",
    "plt.show()"
   ]
  },
  {
   "cell_type": "code",
   "execution_count": 29,
   "id": "d972a015",
   "metadata": {
    "slideshow": {
     "slide_type": "slide"
    }
   },
   "outputs": [
    {
     "data": {
      "text/plain": [
       "Text(0.5, 1.0, 'Feature Importance (MDI)')"
      ]
     },
     "execution_count": 29,
     "metadata": {},
     "output_type": "execute_result"
    },
    {
     "data": {
      "image/png": "[encoded data removed]",
      "text/plain": [
       "<Figure size 864x432 with 1 Axes>"
      ]
     },
     "metadata": {},
     "output_type": "display_data"
    }
   ],
   "source": [
    "# Rank feature importances\n",
    "feature_importance = reg.feature_importances_\n",
    "sorted_idx = np.argsort(feature_importance)\n",
    "pos = np.arange(sorted_idx.shape[0]) + .5\n",
    "fig = plt.figure(figsize=(12, 6))\n",
    "plt.barh(pos, feature_importance[sorted_idx], align='center')\n",
    "plt.yticks(pos, np.array(data.columns)[sorted_idx])\n",
    "plt.title('Feature Importance (MDI)')"
   ]
  },
  {
   "cell_type": "markdown",
   "id": "10ec1ac2",
   "metadata": {
    "slideshow": {
     "slide_type": "slide"
    }
   },
   "source": [
    "Impurity-based feature importances can be misleading for high cardinality features (many unique values), such as User_Count. As an alternative, the permutation importances of reg can be computed on a held out test set.\n",
    "\n",
    "Permutation feature importance is a model inspection technique that can be used for any fitted estimator when the data is tabular. This is especially useful for non-linear or opaque estimators. The permutation feature importance is defined to be the decrease in a model score when a single feature value is randomly shuffled. This procedure breaks the relationship between the feature and the target, thus the drop in the model score is indicative of how much the model depends on the feature. This technique benefits from being model agnostic and can be calculated many times with different permutations of the feature."
   ]
  },
  {
   "cell_type": "code",
   "execution_count": 30,
   "id": "0cb8bdeb",
   "metadata": {
    "slideshow": {
     "slide_type": "slide"
    }
   },
   "outputs": [
    {
     "data": {
      "image/png": "[encoded data removed]",
      "text/plain": [
       "<Figure size 864x432 with 1 Axes>"
      ]
     },
     "metadata": {},
     "output_type": "display_data"
    }
   ],
   "source": [
    "# Rank permutation importances\n",
    "fig = plt.figure(figsize=(12, 6))\n",
    "result = permutation_importance(reg, X_test, y_test, n_repeats=10,\n",
    "                                random_state=42, n_jobs=2)\n",
    "sorted_idx = result.importances_mean.argsort()\n",
    "plt.boxplot(result.importances[sorted_idx].T,\n",
    "            vert=False, labels=np.array(data.columns)[sorted_idx])\n",
    "plt.title(\"Permutation Importance (test set)\")\n",
    "fig.tight_layout()\n",
    "plt.show()"
   ]
  },
  {
   "cell_type": "code",
   "execution_count": 31,
   "id": "5a0495bf",
   "metadata": {
    "slideshow": {
     "slide_type": "slide"
    }
   },
   "outputs": [
    {
     "data": {
      "text/html": [
       "<div>\n",
       "<style scoped>\n",
       "    .dataframe tbody tr th:only-of-type {\n",
       "        vertical-align: middle;\n",
       "    }\n",
       "\n",
       "    .dataframe tbody tr th {\n",
       "        vertical-align: top;\n",
       "    }\n",
       "\n",
       "    .dataframe thead th {\n",
       "        text-align: right;\n",
       "    }\n",
       "</style>\n",
       "<table border=\"1\" class=\"dataframe\">\n",
       "  <thead>\n",
       "    <tr style=\"text-align: right;\">\n",
       "      <th></th>\n",
       "      <th>EU_Sales</th>\n",
       "      <th>Global_Sales</th>\n",
       "      <th>JP_Sales</th>\n",
       "      <th>NA_Sales</th>\n",
       "      <th>Other_Sales</th>\n",
       "    </tr>\n",
       "    <tr>\n",
       "      <th>uCount_Rank_bins</th>\n",
       "      <th></th>\n",
       "      <th></th>\n",
       "      <th></th>\n",
       "      <th></th>\n",
       "      <th></th>\n",
       "    </tr>\n",
       "  </thead>\n",
       "  <tbody>\n",
       "    <tr>\n",
       "      <th>Elite</th>\n",
       "      <td>851.62</td>\n",
       "      <td>2559.24</td>\n",
       "      <td>221.33</td>\n",
       "      <td>1197.90</td>\n",
       "      <td>288.45</td>\n",
       "    </tr>\n",
       "    <tr>\n",
       "      <th>Honorable</th>\n",
       "      <td>341.68</td>\n",
       "      <td>1196.43</td>\n",
       "      <td>116.46</td>\n",
       "      <td>621.59</td>\n",
       "      <td>116.91</td>\n",
       "    </tr>\n",
       "    <tr>\n",
       "      <th>Respectful</th>\n",
       "      <td>194.41</td>\n",
       "      <td>709.99</td>\n",
       "      <td>55.07</td>\n",
       "      <td>379.79</td>\n",
       "      <td>80.06</td>\n",
       "    </tr>\n",
       "    <tr>\n",
       "      <th>Noticable</th>\n",
       "      <td>123.53</td>\n",
       "      <td>464.69</td>\n",
       "      <td>31.74</td>\n",
       "      <td>265.03</td>\n",
       "      <td>44.21</td>\n",
       "    </tr>\n",
       "    <tr>\n",
       "      <th>Poor</th>\n",
       "      <td>100.07</td>\n",
       "      <td>376.70</td>\n",
       "      <td>13.28</td>\n",
       "      <td>228.04</td>\n",
       "      <td>34.64</td>\n",
       "    </tr>\n",
       "  </tbody>\n",
       "</table>\n",
       "</div>"
      ],
      "text/plain": [
       "                  EU_Sales  Global_Sales  JP_Sales  NA_Sales  Other_Sales\n",
       "uCount_Rank_bins                                                         \n",
       "Elite               851.62       2559.24    221.33   1197.90       288.45\n",
       "Honorable           341.68       1196.43    116.46    621.59       116.91\n",
       "Respectful          194.41        709.99     55.07    379.79        80.06\n",
       "Noticable           123.53        464.69     31.74    265.03        44.21\n",
       "Poor                100.07        376.70     13.28    228.04        34.64"
      ]
     },
     "execution_count": 31,
     "metadata": {},
     "output_type": "execute_result"
    }
   ],
   "source": [
    "# See how regional sales data stack up against each other in respect to User Count\n",
    "sales = ['Global_Sales','NA_Sales','EU_Sales','JP_Sales','Other_Sales']\n",
    "nat_pvt = df.pivot_table(index='uCount_Rank_bins', values=sales, aggfunc='sum')\n",
    "nat_sort = nat_pvt.sort_values(by='Global_Sales', ascending=False)\n",
    "nat_sort"
   ]
  },
  {
   "cell_type": "code",
   "execution_count": 32,
   "id": "ca5f6030",
   "metadata": {
    "slideshow": {
     "slide_type": "slide"
    }
   },
   "outputs": [
    {
     "data": {
      "text/plain": [
       "Text(0, 0.5, 'Aggregate Sales')"
      ]
     },
     "execution_count": 32,
     "metadata": {},
     "output_type": "execute_result"
    },
    {
     "data": {
      "image/png": "[encoded data removed]",
      "text/plain": [
       "<Figure size 864x432 with 1 Axes>"
      ]
     },
     "metadata": {},
     "output_type": "display_data"
    }
   ],
   "source": [
    "# Show the sales data from the pivot table with repsect to the most important feature\n",
    "ax = nat_sort.plot(kind='bar')\n",
    "fig = ax.get_figure()\n",
    "fig.set_size_inches(12, 6)\n",
    "ax.set_xlabel('User Count Rank Bins')\n",
    "ax.set_ylabel('Aggregate Sales')"
   ]
  },
  {
   "cell_type": "markdown",
   "id": "8af541c9",
   "metadata": {
    "slideshow": {
     "slide_type": "slide"
    }
   },
   "source": [
    "### b. Deep Learning Model with AutoEncoder\n",
    "\n",
    "For this data set, I will be creating a supervised learning model using an AutoEncoder. Autoencoders work by automatically encoding data based on input values, performing an activation function, and finally decoding the data for output. A \"bottleneck\" is imposed on the input features, compressing them into fewer categories. Thus, if some inherent structure exists within the data, the autoencoder model will identify and leverage it to get the output.\n",
    "\n",
    "The determination for using this is based on its usefulness in identifying features, dimensionality reduction, and feature encoding."
   ]
  },
  {
   "cell_type": "code",
   "execution_count": 33,
   "id": "ab2db6b4",
   "metadata": {
    "slideshow": {
     "slide_type": "fragment"
    }
   },
   "outputs": [],
   "source": [
    "# Import libraries\n",
    "from sklearn.datasets import make_regression\n",
    "from sklearn.preprocessing import MinMaxScaler\n",
    "from tensorflow.keras.models import Model\n",
    "from tensorflow.keras.layers import Input, Dense, ReLU, BatchNormalization\n",
    "from tensorflow.keras.utils import plot_model"
   ]
  },
  {
   "cell_type": "code",
   "execution_count": 34,
   "id": "13f6ec8f",
   "metadata": {
    "slideshow": {
     "slide_type": "slide"
    }
   },
   "outputs": [],
   "source": [
    "# Define dataset\n",
    "X, y = data, target\n",
    "X, y = make_regression(n_samples=3000, n_features=10, n_informative=4, noise=0.1, random_state=42)\n",
    "\n",
    "# Number of input columns\n",
    "n_inputs = X.shape[1]\n",
    "\n",
    "# Split into train test sets\n",
    "X_train, X_test, y_train, y_test = train_test_split(X, y, test_size=0.1, random_state=42)\n",
    "\n",
    "# Scale data\n",
    "t = MinMaxScaler()\n",
    "t.fit(X_train)\n",
    "X_train = t.transform(X_train)\n",
    "X_test = t.transform(X_test)"
   ]
  },
  {
   "cell_type": "markdown",
   "id": "47f5fed3",
   "metadata": {
    "slideshow": {
     "slide_type": "slide"
    }
   },
   "source": [
    "We will define the encoder to have one hidden layer with the same number of nodes as there are in the input data with batch normalization and ReLU activation.\n",
    "\n",
    "This is followed by a bottleneck layer with the same number of nodes as columns in the input data, e.g. no compression."
   ]
  },
  {
   "cell_type": "code",
   "execution_count": 35,
   "id": "f8464344",
   "metadata": {
    "slideshow": {
     "slide_type": "fragment"
    }
   },
   "outputs": [],
   "source": [
    "# Define encoder\n",
    "visible = Input(shape=(n_inputs,))\n",
    "e = Dense(n_inputs*2)(visible)\n",
    "e = BatchNormalization()(e)\n",
    "e = ReLU()(e)\n",
    "\n",
    "# Define bottleneck\n",
    "n_bottleneck = n_inputs\n",
    "bottleneck = Dense(n_bottleneck)(e)"
   ]
  },
  {
   "cell_type": "markdown",
   "id": "8bbf6a73",
   "metadata": {
    "slideshow": {
     "slide_type": "slide"
    }
   },
   "source": [
    "The decoder will be defined with the same structure.\n",
    "\n",
    "It will have one hidden layer with batch normalization and ReLU activation. The output layer will have the same number of nodes as there are columns in the input data and will use a linear activation function to output numeric values.\n",
    "\n",
    "The model will be fit using the efficient Adam version of stochastic gradient descent and minimizes the mean squared error, given that reconstruction is a type of multi-output regression problem."
   ]
  },
  {
   "cell_type": "code",
   "execution_count": 36,
   "id": "560c054f",
   "metadata": {
    "slideshow": {
     "slide_type": "fragment"
    }
   },
   "outputs": [],
   "source": [
    "# Define decoder\n",
    "d = Dense(n_inputs*2)(bottleneck)\n",
    "d = BatchNormalization()(d)\n",
    "d = ReLU()(d)\n",
    "\n",
    "# Output layer\n",
    "output = Dense(n_inputs, activation='linear')(d)"
   ]
  },
  {
   "cell_type": "code",
   "execution_count": 37,
   "id": "df08b84d",
   "metadata": {
    "slideshow": {
     "slide_type": "fragment"
    }
   },
   "outputs": [],
   "source": [
    "# Define and compile the autoencoder model\n",
    "model = Model(inputs=visible, outputs=output)\n",
    "model.compile(optimizer='adam', loss='mse', metrics='accuracy')"
   ]
  },
  {
   "cell_type": "markdown",
   "id": "ba937ca5",
   "metadata": {
    "slideshow": {
     "slide_type": "slide"
    }
   },
   "source": [
    "Next, we can train the model to reproduce the input and keep track of the performance of the model on the holdout test set. The model is trained for 60 epochs and a batch size of 15 samples."
   ]
  },
  {
   "cell_type": "code",
   "execution_count": 38,
   "id": "f2dd1570",
   "metadata": {
    "slideshow": {
     "slide_type": "fragment"
    }
   },
   "outputs": [
    {
     "name": "stdout",
     "output_type": "stream",
     "text": [
      "Epoch 1/60\n",
      "180/180 [==============================] - 1s 2ms/step - loss: 0.2248 - accuracy: 0.1559 - val_loss: 0.0512 - val_accuracy: 0.2400\n",
      "Epoch 2/60\n",
      "180/180 [==============================] - 0s 959us/step - loss: 0.0478 - accuracy: 0.2063 - val_loss: 0.0293 - val_accuracy: 0.2433\n",
      "Epoch 3/60\n",
      "180/180 [==============================] - 0s 909us/step - loss: 0.0284 - accuracy: 0.2822 - val_loss: 0.0219 - val_accuracy: 0.3033\n",
      "Epoch 4/60\n",
      "180/180 [==============================] - 0s 942us/step - loss: 0.0211 - accuracy: 0.3189 - val_loss: 0.0182 - val_accuracy: 0.3667\n",
      "Epoch 5/60\n",
      "180/180 [==============================] - 0s 980us/step - loss: 0.0177 - accuracy: 0.3478 - val_loss: 0.0151 - val_accuracy: 0.4167\n",
      "Epoch 6/60\n",
      "180/180 [==============================] - 0s 950us/step - loss: 0.0154 - accuracy: 0.3815 - val_loss: 0.0134 - val_accuracy: 0.4233\n",
      "Epoch 7/60\n",
      "180/180 [==============================] - 0s 976us/step - loss: 0.0137 - accuracy: 0.4215 - val_loss: 0.0122 - val_accuracy: 0.4467\n",
      "Epoch 8/60\n",
      "180/180 [==============================] - 0s 969us/step - loss: 0.0125 - accuracy: 0.4178 - val_loss: 0.0109 - val_accuracy: 0.4600\n",
      "Epoch 9/60\n",
      "180/180 [==============================] - 0s 899us/step - loss: 0.0117 - accuracy: 0.4493 - val_loss: 0.0103 - val_accuracy: 0.5033\n",
      "Epoch 10/60\n",
      "180/180 [==============================] - 0s 875us/step - loss: 0.0110 - accuracy: 0.4656 - val_loss: 0.0095 - val_accuracy: 0.5200\n",
      "Epoch 11/60\n",
      "180/180 [==============================] - 0s 844us/step - loss: 0.0103 - accuracy: 0.4756 - val_loss: 0.0088 - val_accuracy: 0.5400\n",
      "Epoch 12/60\n",
      "180/180 [==============================] - 0s 845us/step - loss: 0.0099 - accuracy: 0.4878 - val_loss: 0.0084 - val_accuracy: 0.5433\n",
      "Epoch 13/60\n",
      "180/180 [==============================] - 0s 1ms/step - loss: 0.0094 - accuracy: 0.5059 - val_loss: 0.0081 - val_accuracy: 0.5633\n",
      "Epoch 14/60\n",
      "180/180 [==============================] - 0s 915us/step - loss: 0.0088 - accuracy: 0.5170 - val_loss: 0.0074 - val_accuracy: 0.5700\n",
      "Epoch 15/60\n",
      "180/180 [==============================] - 0s 883us/step - loss: 0.0084 - accuracy: 0.5344 - val_loss: 0.0067 - val_accuracy: 0.5600\n",
      "Epoch 16/60\n",
      "180/180 [==============================] - 0s 904us/step - loss: 0.0081 - accuracy: 0.5422 - val_loss: 0.0066 - val_accuracy: 0.5800\n",
      "Epoch 17/60\n",
      "180/180 [==============================] - 0s 931us/step - loss: 0.0076 - accuracy: 0.5574 - val_loss: 0.0060 - val_accuracy: 0.6267\n",
      "Epoch 18/60\n",
      "180/180 [==============================] - 0s 906us/step - loss: 0.0074 - accuracy: 0.5744 - val_loss: 0.0057 - val_accuracy: 0.6267\n",
      "Epoch 19/60\n",
      "180/180 [==============================] - 0s 1ms/step - loss: 0.0070 - accuracy: 0.5722 - val_loss: 0.0053 - val_accuracy: 0.6133\n",
      "Epoch 20/60\n",
      "180/180 [==============================] - 0s 964us/step - loss: 0.0067 - accuracy: 0.5941 - val_loss: 0.0048 - val_accuracy: 0.6433\n",
      "Epoch 21/60\n",
      "180/180 [==============================] - 0s 1ms/step - loss: 0.0065 - accuracy: 0.6033 - val_loss: 0.0046 - val_accuracy: 0.6567\n",
      "Epoch 22/60\n",
      "180/180 [==============================] - 0s 1ms/step - loss: 0.0062 - accuracy: 0.6085 - val_loss: 0.0042 - val_accuracy: 0.6733\n",
      "Epoch 23/60\n",
      "180/180 [==============================] - 0s 1ms/step - loss: 0.0060 - accuracy: 0.6174 - val_loss: 0.0040 - val_accuracy: 0.6867\n",
      "Epoch 24/60\n",
      "180/180 [==============================] - 0s 1ms/step - loss: 0.0057 - accuracy: 0.6196 - val_loss: 0.0037 - val_accuracy: 0.7133\n",
      "Epoch 25/60\n",
      "180/180 [==============================] - 0s 960us/step - loss: 0.0054 - accuracy: 0.6263 - val_loss: 0.0036 - val_accuracy: 0.7200\n",
      "Epoch 26/60\n",
      "180/180 [==============================] - 0s 890us/step - loss: 0.0053 - accuracy: 0.6344 - val_loss: 0.0033 - val_accuracy: 0.7533\n",
      "Epoch 27/60\n",
      "180/180 [==============================] - 0s 1ms/step - loss: 0.0051 - accuracy: 0.6396 - val_loss: 0.0029 - val_accuracy: 0.7533\n",
      "Epoch 28/60\n",
      "180/180 [==============================] - 0s 915us/step - loss: 0.0049 - accuracy: 0.6544 - val_loss: 0.0029 - val_accuracy: 0.7433\n",
      "Epoch 29/60\n",
      "180/180 [==============================] - 0s 933us/step - loss: 0.0049 - accuracy: 0.6456 - val_loss: 0.0027 - val_accuracy: 0.7433\n",
      "Epoch 30/60\n",
      "180/180 [==============================] - 0s 1ms/step - loss: 0.0047 - accuracy: 0.6570 - val_loss: 0.0025 - val_accuracy: 0.7833\n",
      "Epoch 31/60\n",
      "180/180 [==============================] - 0s 1ms/step - loss: 0.0045 - accuracy: 0.6752 - val_loss: 0.0026 - val_accuracy: 0.7867\n",
      "Epoch 32/60\n",
      "180/180 [==============================] - 0s 881us/step - loss: 0.0044 - accuracy: 0.6741 - val_loss: 0.0021 - val_accuracy: 0.8100\n",
      "Epoch 33/60\n",
      "180/180 [==============================] - 0s 919us/step - loss: 0.0042 - accuracy: 0.6659 - val_loss: 0.0022 - val_accuracy: 0.7800\n",
      "Epoch 34/60\n",
      "180/180 [==============================] - 0s 866us/step - loss: 0.0041 - accuracy: 0.6796 - val_loss: 0.0020 - val_accuracy: 0.7933\n",
      "Epoch 35/60\n",
      "180/180 [==============================] - 0s 901us/step - loss: 0.0040 - accuracy: 0.6796 - val_loss: 0.0018 - val_accuracy: 0.7900\n",
      "Epoch 36/60\n",
      "180/180 [==============================] - 0s 1ms/step - loss: 0.0040 - accuracy: 0.6756 - val_loss: 0.0017 - val_accuracy: 0.8167\n",
      "Epoch 37/60\n",
      "180/180 [==============================] - 0s 940us/step - loss: 0.0037 - accuracy: 0.6796 - val_loss: 0.0016 - val_accuracy: 0.8367\n",
      "Epoch 38/60\n",
      "180/180 [==============================] - 0s 863us/step - loss: 0.0037 - accuracy: 0.6922 - val_loss: 0.0016 - val_accuracy: 0.8267\n",
      "Epoch 39/60\n",
      "180/180 [==============================] - 0s 940us/step - loss: 0.0036 - accuracy: 0.7063 - val_loss: 0.0013 - val_accuracy: 0.8267\n",
      "Epoch 40/60\n",
      "180/180 [==============================] - 0s 1ms/step - loss: 0.0036 - accuracy: 0.6956 - val_loss: 0.0013 - val_accuracy: 0.8433\n",
      "Epoch 41/60\n",
      "180/180 [==============================] - 0s 916us/step - loss: 0.0035 - accuracy: 0.7052 - val_loss: 0.0013 - val_accuracy: 0.8367\n",
      "Epoch 42/60\n",
      "180/180 [==============================] - 0s 1ms/step - loss: 0.0034 - accuracy: 0.7030 - val_loss: 0.0012 - val_accuracy: 0.8567\n",
      "Epoch 43/60\n",
      "180/180 [==============================] - 0s 933us/step - loss: 0.0033 - accuracy: 0.7107 - val_loss: 0.0013 - val_accuracy: 0.8700\n",
      "Epoch 44/60\n",
      "180/180 [==============================] - 0s 848us/step - loss: 0.0033 - accuracy: 0.6863 - val_loss: 0.0012 - val_accuracy: 0.8533\n",
      "Epoch 45/60\n",
      "180/180 [==============================] - 0s 857us/step - loss: 0.0032 - accuracy: 0.7167 - val_loss: 0.0011 - val_accuracy: 0.8667\n",
      "Epoch 46/60\n",
      "180/180 [==============================] - 0s 858us/step - loss: 0.0031 - accuracy: 0.7259 - val_loss: 8.4634e-04 - val_accuracy: 0.8800\n",
      "Epoch 47/60\n",
      "180/180 [==============================] - 0s 851us/step - loss: 0.0031 - accuracy: 0.7196 - val_loss: 0.0010 - val_accuracy: 0.8733\n",
      "Epoch 48/60\n",
      "180/180 [==============================] - 0s 1ms/step - loss: 0.0030 - accuracy: 0.7196 - val_loss: 8.9268e-04 - val_accuracy: 0.8833\n",
      "Epoch 49/60\n",
      "180/180 [==============================] - 0s 913us/step - loss: 0.0030 - accuracy: 0.7152 - val_loss: 0.0011 - val_accuracy: 0.8833\n",
      "Epoch 50/60\n",
      "180/180 [==============================] - 0s 903us/step - loss: 0.0030 - accuracy: 0.7141 - val_loss: 8.5986e-04 - val_accuracy: 0.8900\n",
      "Epoch 51/60\n",
      "180/180 [==============================] - 0s 932us/step - loss: 0.0029 - accuracy: 0.7281 - val_loss: 6.9164e-04 - val_accuracy: 0.8833\n",
      "Epoch 52/60\n",
      "180/180 [==============================] - 0s 952us/step - loss: 0.0029 - accuracy: 0.7181 - val_loss: 8.1886e-04 - val_accuracy: 0.8900\n",
      "Epoch 53/60\n",
      "180/180 [==============================] - 0s 928us/step - loss: 0.0029 - accuracy: 0.7304 - val_loss: 6.6146e-04 - val_accuracy: 0.9200\n",
      "Epoch 54/60\n",
      "180/180 [==============================] - 0s 956us/step - loss: 0.0029 - accuracy: 0.7396 - val_loss: 6.0179e-04 - val_accuracy: 0.9200\n",
      "Epoch 55/60\n",
      "180/180 [==============================] - 0s 1ms/step - loss: 0.0030 - accuracy: 0.7485 - val_loss: 5.6799e-04 - val_accuracy: 0.9300\n",
      "Epoch 56/60\n",
      "180/180 [==============================] - 0s 918us/step - loss: 0.0028 - accuracy: 0.7263 - val_loss: 8.5059e-04 - val_accuracy: 0.8767\n",
      "Epoch 57/60\n"
     ]
    },
    {
     "name": "stdout",
     "output_type": "stream",
     "text": [
      "180/180 [==============================] - 0s 847us/step - loss: 0.0028 - accuracy: 0.7459 - val_loss: 6.9906e-04 - val_accuracy: 0.8967\n",
      "Epoch 58/60\n",
      "180/180 [==============================] - 0s 857us/step - loss: 0.0028 - accuracy: 0.7463 - val_loss: 5.8567e-04 - val_accuracy: 0.9200\n",
      "Epoch 59/60\n",
      "180/180 [==============================] - 0s 879us/step - loss: 0.0028 - accuracy: 0.7311 - val_loss: 5.4860e-04 - val_accuracy: 0.9200\n",
      "Epoch 60/60\n",
      "180/180 [==============================] - 0s 900us/step - loss: 0.0027 - accuracy: 0.7381 - val_loss: 5.9983e-04 - val_accuracy: 0.9000\n",
      "dict_keys(['loss', 'accuracy', 'val_loss', 'val_accuracy'])\n"
     ]
    }
   ],
   "source": [
    "# Fit the autoencoder model to reconstruct input\n",
    "history = model.fit(X_train, X_train, epochs=60, batch_size=15, verbose=1, validation_data=(X_test,X_test))\n",
    "print(history.history.keys())"
   ]
  },
  {
   "cell_type": "markdown",
   "id": "5d3e9a63",
   "metadata": {
    "slideshow": {
     "slide_type": "slide"
    }
   },
   "source": [
    "After training, we can plot the learning curves for the train and test sets to confirm the model learned the reconstruction problem well."
   ]
  },
  {
   "cell_type": "code",
   "execution_count": 39,
   "id": "ff26c8fb",
   "metadata": {
    "slideshow": {
     "slide_type": "fragment"
    }
   },
   "outputs": [
    {
     "data": {
      "image/png": "[encoded data removed]",
      "text/plain": [
       "<Figure size 432x288 with 1 Axes>"
      ]
     },
     "metadata": {},
     "output_type": "display_data"
    },
    {
     "name": "stdout",
     "output_type": "stream",
     "text": [
      "Accuracy: 0.9000\n"
     ]
    }
   ],
   "source": [
    "# Summarize history for accuracy\n",
    "plt.plot(history.history['accuracy'])\n",
    "plt.plot(history.history['val_accuracy'])\n",
    "plt.title('Model Accuracy')\n",
    "plt.ylabel('accuracy')\n",
    "plt.xlabel('epoch')\n",
    "plt.legend(['train', 'test'], loc='upper left')\n",
    "plt.show()\n",
    "\n",
    "print('Accuracy: {:.4f}'.format(history.history['val_accuracy'][59]))"
   ]
  },
  {
   "cell_type": "code",
   "execution_count": 40,
   "id": "daa1189f",
   "metadata": {
    "slideshow": {
     "slide_type": "slide"
    }
   },
   "outputs": [
    {
     "data": {
      "image/png": "[encoded data removed]",
      "text/plain": [
       "<Figure size 432x288 with 1 Axes>"
      ]
     },
     "metadata": {},
     "output_type": "display_data"
    },
    {
     "name": "stdout",
     "output_type": "stream",
     "text": [
      "MSE Loss: 0.0006\n"
     ]
    }
   ],
   "source": [
    "# Summarize history for loss\n",
    "plt.plot(history.history['loss'])\n",
    "plt.plot(history.history['val_loss'])\n",
    "plt.title('Model Loss (MSE)')\n",
    "plt.ylabel('loss')\n",
    "plt.xlabel('epoch')\n",
    "plt.legend(['train', 'test'], loc='upper left')\n",
    "plt.show()\n",
    "\n",
    "print('MSE Loss: {:.4f}'.format(history.history['val_loss'][59]))"
   ]
  },
  {
   "cell_type": "markdown",
   "id": "e72ffd1a",
   "metadata": {
    "slideshow": {
     "slide_type": "slide"
    }
   },
   "source": [
    "Upon comparing the two models, we clearly see that the Deep Learning model was far superior in almost completely eliminating the Mean Squared Error. The accuracy on the AutoEncoder model was also high, around 85-90%, but we might want to spend more time experimenting with more options for tuning this a bit more to get the accuracy above 90%. So now, we see that Nintendo leads the way as a Platform for producing video games rated E for Everyone. However, the most popular among users (critically and user acclaimed) are M for Mature, action, shooter, and role-playing games.\n",
    "\n",
    "Depending on the game you want to develop, you might consider different platforms for the game to be distributed on. The game would have to be compatible with the features of the gaming system and what controls the user would need to have in order to get the most enjoyment out of it. You would also have to consider memory and processing speeds for interactive game-play.\n",
    "\n",
    "So, while there are many features to consider that aren't listed here for costs and strategy for development, it does provide investors an idea of what to expect based on the catalog of games we have in our pipeline that can be translated to projected sales figures."
   ]
  }
 ],
 "metadata": {
  "kernelspec": {
   "display_name": "Python 3",
   "language": "python",
   "name": "python3"
  },
  "language_info": {
   "codemirror_mode": {
    "name": "ipython",
    "version": 3
   },
   "file_extension": ".py",
   "mimetype": "text/x-python",
   "name": "python",
   "nbconvert_exporter": "python",
   "pygments_lexer": "ipython3",
   "version": "3.9.5"
  }
 },
 "nbformat": 4,
 "nbformat_minor": 5
}
